{
  "nbformat": 4,
  "nbformat_minor": 5,
  "metadata": {
    "accelerator": "GPU",
    "colab": {
      "name": "DifferentModel (1).ipynb",
      "provenance": [],
      "collapsed_sections": []
    },
    "kernelspec": {
      "display_name": "Python 3",
      "language": "python",
      "name": "python3"
    },
    "language_info": {
      "codemirror_mode": {
        "name": "ipython",
        "version": 3
      },
      "file_extension": ".py",
      "mimetype": "text/x-python",
      "name": "python",
      "nbconvert_exporter": "python",
      "pygments_lexer": "ipython3",
      "version": "3.8.8"
    }
  },
  "cells": [
    {
      "cell_type": "code",
      "metadata": {
        "id": "breeding-necklace"
      },
      "source": [
        "import pandas as pd\n",
        "import numpy as np\n",
        "import tensorflow as tf\n",
        "import re\n",
        "from nltk.corpus import stopwords\n",
        "import nltk\n",
        "from keras.preprocessing.text import Tokenizer \n",
        "from keras.preprocessing.sequence import pad_sequences\n",
        "\n",
        "         \n",
        "from bs4 import BeautifulSoup  \n",
        "from tensorflow.keras.layers import Input, LSTM, Embedding, Dense, Concatenate, TimeDistributed, Bidirectional\n",
        "from tensorflow.keras.models import Model\n",
        "from tensorflow.keras.callbacks import EarlyStopping\n",
        "import warnings\n",
        "from attention import AttentionLayer\n",
        "pd.set_option(\"display.max_colwidth\", 200)\n",
        "warnings.filterwarnings(\"ignore\")"
      ],
      "id": "breeding-necklace",
      "execution_count": 1,
      "outputs": []
    },
    {
      "cell_type": "code",
      "metadata": {
        "id": "unable-macro"
      },
      "source": [
        "#read the data set\n",
        "dataset = pd.read_csv(\"news_summary.csv\", encoding = \"ISO-8859-1\")"
      ],
      "id": "unable-macro",
      "execution_count": 2,
      "outputs": []
    },
    {
      "cell_type": "code",
      "metadata": {
        "colab": {
          "base_uri": "https://localhost:8080/"
        },
        "id": "limiting-chuck",
        "outputId": "88c380a1-dce2-461c-aaab-9e1e08bfe461"
      },
      "source": [
        "dataset.shape"
      ],
      "id": "limiting-chuck",
      "execution_count": 3,
      "outputs": [
        {
          "output_type": "execute_result",
          "data": {
            "text/plain": [
              "(56810, 282)"
            ]
          },
          "metadata": {
            "tags": []
          },
          "execution_count": 3
        }
      ]
    },
    {
      "cell_type": "code",
      "metadata": {
        "colab": {
          "base_uri": "https://localhost:8080/",
          "height": 1000
        },
        "id": "preceding-wednesday",
        "outputId": "9bb0c831-9652-4467-8a71-7fed18b356df"
      },
      "source": [
        "dataset.head()"
      ],
      "id": "preceding-wednesday",
      "execution_count": 4,
      "outputs": [
        {
          "output_type": "execute_result",
          "data": {
            "text/html": [
              "<div>\n",
              "<style scoped>\n",
              "    .dataframe tbody tr th:only-of-type {\n",
              "        vertical-align: middle;\n",
              "    }\n",
              "\n",
              "    .dataframe tbody tr th {\n",
              "        vertical-align: top;\n",
              "    }\n",
              "\n",
              "    .dataframe thead th {\n",
              "        text-align: right;\n",
              "    }\n",
              "</style>\n",
              "<table border=\"1\" class=\"dataframe\">\n",
              "  <thead>\n",
              "    <tr style=\"text-align: right;\">\n",
              "      <th></th>\n",
              "      <th>author</th>\n",
              "      <th>date</th>\n",
              "      <th>headlines</th>\n",
              "      <th>read_more</th>\n",
              "      <th>text</th>\n",
              "      <th>ctext</th>\n",
              "      <th>Unnamed: 6</th>\n",
              "      <th>Unnamed: 7</th>\n",
              "      <th>Unnamed: 8</th>\n",
              "      <th>Unnamed: 9</th>\n",
              "      <th>Unnamed: 10</th>\n",
              "      <th>Unnamed: 11</th>\n",
              "      <th>Unnamed: 12</th>\n",
              "      <th>Unnamed: 13</th>\n",
              "      <th>Unnamed: 14</th>\n",
              "      <th>Unnamed: 15</th>\n",
              "      <th>Unnamed: 16</th>\n",
              "      <th>Unnamed: 17</th>\n",
              "      <th>Unnamed: 18</th>\n",
              "      <th>Unnamed: 19</th>\n",
              "      <th>Unnamed: 20</th>\n",
              "      <th>Unnamed: 21</th>\n",
              "      <th>Unnamed: 22</th>\n",
              "      <th>Unnamed: 23</th>\n",
              "      <th>Unnamed: 24</th>\n",
              "      <th>Unnamed: 25</th>\n",
              "      <th>Unnamed: 26</th>\n",
              "      <th>Unnamed: 27</th>\n",
              "      <th>Unnamed: 28</th>\n",
              "      <th>Unnamed: 29</th>\n",
              "      <th>Unnamed: 30</th>\n",
              "      <th>Unnamed: 31</th>\n",
              "      <th>Unnamed: 32</th>\n",
              "      <th>Unnamed: 33</th>\n",
              "      <th>Unnamed: 34</th>\n",
              "      <th>Unnamed: 35</th>\n",
              "      <th>Unnamed: 36</th>\n",
              "      <th>Unnamed: 37</th>\n",
              "      <th>Unnamed: 38</th>\n",
              "      <th>Unnamed: 39</th>\n",
              "      <th>...</th>\n",
              "      <th>Unnamed: 242</th>\n",
              "      <th>Unnamed: 243</th>\n",
              "      <th>Unnamed: 244</th>\n",
              "      <th>Unnamed: 245</th>\n",
              "      <th>Unnamed: 246</th>\n",
              "      <th>Unnamed: 247</th>\n",
              "      <th>Unnamed: 248</th>\n",
              "      <th>Unnamed: 249</th>\n",
              "      <th>Unnamed: 250</th>\n",
              "      <th>Unnamed: 251</th>\n",
              "      <th>Unnamed: 252</th>\n",
              "      <th>Unnamed: 253</th>\n",
              "      <th>Unnamed: 254</th>\n",
              "      <th>Unnamed: 255</th>\n",
              "      <th>Unnamed: 256</th>\n",
              "      <th>Unnamed: 257</th>\n",
              "      <th>Unnamed: 258</th>\n",
              "      <th>Unnamed: 259</th>\n",
              "      <th>Unnamed: 260</th>\n",
              "      <th>Unnamed: 261</th>\n",
              "      <th>Unnamed: 262</th>\n",
              "      <th>Unnamed: 263</th>\n",
              "      <th>Unnamed: 264</th>\n",
              "      <th>Unnamed: 265</th>\n",
              "      <th>Unnamed: 266</th>\n",
              "      <th>Unnamed: 267</th>\n",
              "      <th>Unnamed: 268</th>\n",
              "      <th>Unnamed: 269</th>\n",
              "      <th>Unnamed: 270</th>\n",
              "      <th>Unnamed: 271</th>\n",
              "      <th>Unnamed: 272</th>\n",
              "      <th>Unnamed: 273</th>\n",
              "      <th>Unnamed: 274</th>\n",
              "      <th>Unnamed: 275</th>\n",
              "      <th>Unnamed: 276</th>\n",
              "      <th>Unnamed: 277</th>\n",
              "      <th>Unnamed: 278</th>\n",
              "      <th>Unnamed: 279</th>\n",
              "      <th>Unnamed: 280</th>\n",
              "      <th>Unnamed: 281</th>\n",
              "    </tr>\n",
              "  </thead>\n",
              "  <tbody>\n",
              "    <tr>\n",
              "      <th>0</th>\n",
              "      <td>Chhavi Tyagi</td>\n",
              "      <td>03 Aug 2017,Thursday</td>\n",
              "      <td>Daman &amp; Diu revokes mandatory Rakshabandhan in offices order</td>\n",
              "      <td>http://www.hindustantimes.com/india-news/rakshabandhan-compulsory-in-daman-and-diu-women-employees-to-tie-rakhis-to-male-colleagues/story-E5h5U1ZDJii5zFpLXWRkhJ.html?utm_source=inshorts&amp;utm_medium...</td>\n",
              "      <td>The Administration of Union Territory Daman and Diu has revoked its order that made it compulsory for women to tie rakhis to their male colleagues on the occasion of Rakshabandhan on August 7. The...</td>\n",
              "      <td>The Daman and Diu administration on Wednesday withdrew a circular that asked women staff to tie rakhis on male colleagues after the order triggered a backlash from employees and was ripped apart o...</td>\n",
              "      <td>NaN</td>\n",
              "      <td>NaN</td>\n",
              "      <td>NaN</td>\n",
              "      <td>NaN</td>\n",
              "      <td>NaN</td>\n",
              "      <td>NaN</td>\n",
              "      <td>NaN</td>\n",
              "      <td>NaN</td>\n",
              "      <td>NaN</td>\n",
              "      <td>NaN</td>\n",
              "      <td>NaN</td>\n",
              "      <td>NaN</td>\n",
              "      <td>NaN</td>\n",
              "      <td>NaN</td>\n",
              "      <td>NaN</td>\n",
              "      <td>NaN</td>\n",
              "      <td>NaN</td>\n",
              "      <td>NaN</td>\n",
              "      <td>NaN</td>\n",
              "      <td>NaN</td>\n",
              "      <td>NaN</td>\n",
              "      <td>NaN</td>\n",
              "      <td>NaN</td>\n",
              "      <td>NaN</td>\n",
              "      <td>NaN</td>\n",
              "      <td>NaN</td>\n",
              "      <td>NaN</td>\n",
              "      <td>NaN</td>\n",
              "      <td>NaN</td>\n",
              "      <td>NaN</td>\n",
              "      <td>NaN</td>\n",
              "      <td>NaN</td>\n",
              "      <td>NaN</td>\n",
              "      <td>NaN</td>\n",
              "      <td>...</td>\n",
              "      <td>NaN</td>\n",
              "      <td>NaN</td>\n",
              "      <td>NaN</td>\n",
              "      <td>NaN</td>\n",
              "      <td>NaN</td>\n",
              "      <td>NaN</td>\n",
              "      <td>NaN</td>\n",
              "      <td>NaN</td>\n",
              "      <td>NaN</td>\n",
              "      <td>NaN</td>\n",
              "      <td>NaN</td>\n",
              "      <td>NaN</td>\n",
              "      <td>NaN</td>\n",
              "      <td>NaN</td>\n",
              "      <td>NaN</td>\n",
              "      <td>NaN</td>\n",
              "      <td>NaN</td>\n",
              "      <td>NaN</td>\n",
              "      <td>NaN</td>\n",
              "      <td>NaN</td>\n",
              "      <td>NaN</td>\n",
              "      <td>NaN</td>\n",
              "      <td>NaN</td>\n",
              "      <td>NaN</td>\n",
              "      <td>NaN</td>\n",
              "      <td>NaN</td>\n",
              "      <td>NaN</td>\n",
              "      <td>NaN</td>\n",
              "      <td>NaN</td>\n",
              "      <td>NaN</td>\n",
              "      <td>NaN</td>\n",
              "      <td>NaN</td>\n",
              "      <td>NaN</td>\n",
              "      <td>NaN</td>\n",
              "      <td>NaN</td>\n",
              "      <td>NaN</td>\n",
              "      <td>NaN</td>\n",
              "      <td>NaN</td>\n",
              "      <td>NaN</td>\n",
              "      <td>NaN</td>\n",
              "    </tr>\n",
              "    <tr>\n",
              "      <th>1</th>\n",
              "      <td>Daisy Mowke</td>\n",
              "      <td>03 Aug 2017,Thursday</td>\n",
              "      <td>Malaika slams user who trolled her for 'divorcing rich man'</td>\n",
              "      <td>http://www.hindustantimes.com/bollywood/malaika-arora-khan-was-trolled-for-divorcing-a-rich-man-her-reply-is-dignity-itself/story-oIPZNI9deImCmabLMMwR2H.html?utm_source=inshorts&amp;utm_medium=referra...</td>\n",
              "      <td>Malaika Arora slammed an Instagram user who trolled her for \"divorcing a rich man\" and \"having fun with the alimony\". \"Her life now is all about wearing short clothes, going to gym or salon, enjoy...</td>\n",
              "      <td>From her special numbers to TV?appearances, Bollywood actor Malaika Arora Khan has managed to carve her own identity. The actor, who made her debut in the Hindi film industry with the blockbuster ...</td>\n",
              "      <td>NaN</td>\n",
              "      <td>NaN</td>\n",
              "      <td>NaN</td>\n",
              "      <td>NaN</td>\n",
              "      <td>NaN</td>\n",
              "      <td>NaN</td>\n",
              "      <td>NaN</td>\n",
              "      <td>NaN</td>\n",
              "      <td>NaN</td>\n",
              "      <td>NaN</td>\n",
              "      <td>NaN</td>\n",
              "      <td>NaN</td>\n",
              "      <td>NaN</td>\n",
              "      <td>NaN</td>\n",
              "      <td>NaN</td>\n",
              "      <td>NaN</td>\n",
              "      <td>NaN</td>\n",
              "      <td>NaN</td>\n",
              "      <td>NaN</td>\n",
              "      <td>NaN</td>\n",
              "      <td>NaN</td>\n",
              "      <td>NaN</td>\n",
              "      <td>NaN</td>\n",
              "      <td>NaN</td>\n",
              "      <td>NaN</td>\n",
              "      <td>NaN</td>\n",
              "      <td>NaN</td>\n",
              "      <td>NaN</td>\n",
              "      <td>NaN</td>\n",
              "      <td>NaN</td>\n",
              "      <td>NaN</td>\n",
              "      <td>NaN</td>\n",
              "      <td>NaN</td>\n",
              "      <td>NaN</td>\n",
              "      <td>...</td>\n",
              "      <td>NaN</td>\n",
              "      <td>NaN</td>\n",
              "      <td>NaN</td>\n",
              "      <td>NaN</td>\n",
              "      <td>NaN</td>\n",
              "      <td>NaN</td>\n",
              "      <td>NaN</td>\n",
              "      <td>NaN</td>\n",
              "      <td>NaN</td>\n",
              "      <td>NaN</td>\n",
              "      <td>NaN</td>\n",
              "      <td>NaN</td>\n",
              "      <td>NaN</td>\n",
              "      <td>NaN</td>\n",
              "      <td>NaN</td>\n",
              "      <td>NaN</td>\n",
              "      <td>NaN</td>\n",
              "      <td>NaN</td>\n",
              "      <td>NaN</td>\n",
              "      <td>NaN</td>\n",
              "      <td>NaN</td>\n",
              "      <td>NaN</td>\n",
              "      <td>NaN</td>\n",
              "      <td>NaN</td>\n",
              "      <td>NaN</td>\n",
              "      <td>NaN</td>\n",
              "      <td>NaN</td>\n",
              "      <td>NaN</td>\n",
              "      <td>NaN</td>\n",
              "      <td>NaN</td>\n",
              "      <td>NaN</td>\n",
              "      <td>NaN</td>\n",
              "      <td>NaN</td>\n",
              "      <td>NaN</td>\n",
              "      <td>NaN</td>\n",
              "      <td>NaN</td>\n",
              "      <td>NaN</td>\n",
              "      <td>NaN</td>\n",
              "      <td>NaN</td>\n",
              "      <td>NaN</td>\n",
              "    </tr>\n",
              "    <tr>\n",
              "      <th>2</th>\n",
              "      <td>Arshiya Chopra</td>\n",
              "      <td>03 Aug 2017,Thursday</td>\n",
              "      <td>'Virgin' now corrected to 'Unmarried' in IGIMS' form</td>\n",
              "      <td>http://www.hindustantimes.com/patna/bihar-igims-form-loses-virginity-after-row-opts-for-unmarried-instead/story-8XmHIg39otGBoZAYEBQxMK.html?utm_source=inshorts&amp;utm_medium=referral&amp;utm_campaign=ful...</td>\n",
              "      <td>The Indira Gandhi Institute of Medical Sciences (IGIMS) in Patna on Thursday made corrections in its Marital Declaration Form by changing 'Virgin' option to 'Unmarried'. Earlier, Bihar Health Mini...</td>\n",
              "      <td>The Indira Gandhi Institute of Medical Sciences (IGIMS) in Patna amended its marital declaration form on Thursday, replacing the word ?virgin? with ?unmarried? after controversy.Until now, new rec...</td>\n",
              "      <td>NaN</td>\n",
              "      <td>NaN</td>\n",
              "      <td>NaN</td>\n",
              "      <td>NaN</td>\n",
              "      <td>NaN</td>\n",
              "      <td>NaN</td>\n",
              "      <td>NaN</td>\n",
              "      <td>NaN</td>\n",
              "      <td>NaN</td>\n",
              "      <td>NaN</td>\n",
              "      <td>NaN</td>\n",
              "      <td>NaN</td>\n",
              "      <td>NaN</td>\n",
              "      <td>NaN</td>\n",
              "      <td>NaN</td>\n",
              "      <td>NaN</td>\n",
              "      <td>NaN</td>\n",
              "      <td>NaN</td>\n",
              "      <td>NaN</td>\n",
              "      <td>NaN</td>\n",
              "      <td>NaN</td>\n",
              "      <td>NaN</td>\n",
              "      <td>NaN</td>\n",
              "      <td>NaN</td>\n",
              "      <td>NaN</td>\n",
              "      <td>NaN</td>\n",
              "      <td>NaN</td>\n",
              "      <td>NaN</td>\n",
              "      <td>NaN</td>\n",
              "      <td>NaN</td>\n",
              "      <td>NaN</td>\n",
              "      <td>NaN</td>\n",
              "      <td>NaN</td>\n",
              "      <td>NaN</td>\n",
              "      <td>...</td>\n",
              "      <td>NaN</td>\n",
              "      <td>NaN</td>\n",
              "      <td>NaN</td>\n",
              "      <td>NaN</td>\n",
              "      <td>NaN</td>\n",
              "      <td>NaN</td>\n",
              "      <td>NaN</td>\n",
              "      <td>NaN</td>\n",
              "      <td>NaN</td>\n",
              "      <td>NaN</td>\n",
              "      <td>NaN</td>\n",
              "      <td>NaN</td>\n",
              "      <td>NaN</td>\n",
              "      <td>NaN</td>\n",
              "      <td>NaN</td>\n",
              "      <td>NaN</td>\n",
              "      <td>NaN</td>\n",
              "      <td>NaN</td>\n",
              "      <td>NaN</td>\n",
              "      <td>NaN</td>\n",
              "      <td>NaN</td>\n",
              "      <td>NaN</td>\n",
              "      <td>NaN</td>\n",
              "      <td>NaN</td>\n",
              "      <td>NaN</td>\n",
              "      <td>NaN</td>\n",
              "      <td>NaN</td>\n",
              "      <td>NaN</td>\n",
              "      <td>NaN</td>\n",
              "      <td>NaN</td>\n",
              "      <td>NaN</td>\n",
              "      <td>NaN</td>\n",
              "      <td>NaN</td>\n",
              "      <td>NaN</td>\n",
              "      <td>NaN</td>\n",
              "      <td>NaN</td>\n",
              "      <td>NaN</td>\n",
              "      <td>NaN</td>\n",
              "      <td>NaN</td>\n",
              "      <td>NaN</td>\n",
              "    </tr>\n",
              "    <tr>\n",
              "      <th>3</th>\n",
              "      <td>Sumedha Sehra</td>\n",
              "      <td>03 Aug 2017,Thursday</td>\n",
              "      <td>Aaj aapne pakad liya: LeT man Dujana before being killed</td>\n",
              "      <td>http://indiatoday.intoday.in/story/abu-dujana-last-phone-call-lashkar-e-taiba-jammu-and-kashmir/1/1017550.html?utm_source=inshorts&amp;utm_medium=referral&amp;utm_campaign=fullarticle</td>\n",
              "      <td>Lashkar-e-Taiba's Kashmir commander Abu Dujana, who was killed by security forces, said \"Kabhi hum aage, kabhi aap, aaj aapne pakad liya, mubarak ho aapko (Today you caught me. Congratulations)\" a...</td>\n",
              "      <td>Lashkar-e-Taiba's Kashmir commander Abu Dujana was killed in an encounter in a village in Pulwama district of Jammu and Kashmir earlier this week. Dujana, who had managed to give the security forc...</td>\n",
              "      <td>NaN</td>\n",
              "      <td>NaN</td>\n",
              "      <td>NaN</td>\n",
              "      <td>NaN</td>\n",
              "      <td>NaN</td>\n",
              "      <td>NaN</td>\n",
              "      <td>NaN</td>\n",
              "      <td>NaN</td>\n",
              "      <td>NaN</td>\n",
              "      <td>NaN</td>\n",
              "      <td>NaN</td>\n",
              "      <td>NaN</td>\n",
              "      <td>NaN</td>\n",
              "      <td>NaN</td>\n",
              "      <td>NaN</td>\n",
              "      <td>NaN</td>\n",
              "      <td>NaN</td>\n",
              "      <td>NaN</td>\n",
              "      <td>NaN</td>\n",
              "      <td>NaN</td>\n",
              "      <td>NaN</td>\n",
              "      <td>NaN</td>\n",
              "      <td>NaN</td>\n",
              "      <td>NaN</td>\n",
              "      <td>NaN</td>\n",
              "      <td>NaN</td>\n",
              "      <td>NaN</td>\n",
              "      <td>NaN</td>\n",
              "      <td>NaN</td>\n",
              "      <td>NaN</td>\n",
              "      <td>NaN</td>\n",
              "      <td>NaN</td>\n",
              "      <td>NaN</td>\n",
              "      <td>NaN</td>\n",
              "      <td>...</td>\n",
              "      <td>NaN</td>\n",
              "      <td>NaN</td>\n",
              "      <td>NaN</td>\n",
              "      <td>NaN</td>\n",
              "      <td>NaN</td>\n",
              "      <td>NaN</td>\n",
              "      <td>NaN</td>\n",
              "      <td>NaN</td>\n",
              "      <td>NaN</td>\n",
              "      <td>NaN</td>\n",
              "      <td>NaN</td>\n",
              "      <td>NaN</td>\n",
              "      <td>NaN</td>\n",
              "      <td>NaN</td>\n",
              "      <td>NaN</td>\n",
              "      <td>NaN</td>\n",
              "      <td>NaN</td>\n",
              "      <td>NaN</td>\n",
              "      <td>NaN</td>\n",
              "      <td>NaN</td>\n",
              "      <td>NaN</td>\n",
              "      <td>NaN</td>\n",
              "      <td>NaN</td>\n",
              "      <td>NaN</td>\n",
              "      <td>NaN</td>\n",
              "      <td>NaN</td>\n",
              "      <td>NaN</td>\n",
              "      <td>NaN</td>\n",
              "      <td>NaN</td>\n",
              "      <td>NaN</td>\n",
              "      <td>NaN</td>\n",
              "      <td>NaN</td>\n",
              "      <td>NaN</td>\n",
              "      <td>NaN</td>\n",
              "      <td>NaN</td>\n",
              "      <td>NaN</td>\n",
              "      <td>NaN</td>\n",
              "      <td>NaN</td>\n",
              "      <td>NaN</td>\n",
              "      <td>NaN</td>\n",
              "    </tr>\n",
              "    <tr>\n",
              "      <th>4</th>\n",
              "      <td>Aarushi Maheshwari</td>\n",
              "      <td>03 Aug 2017,Thursday</td>\n",
              "      <td>Hotel staff to get training to spot signs of sex trafficking</td>\n",
              "      <td>http://indiatoday.intoday.in/story/sex-trafficking-mumbai-rescue-me-maharashtra-international-labour-organization-forced-labour-trafficking-traning-hotel-staff/1/1017210.html?utm_source=inshorts&amp;u...</td>\n",
              "      <td>Hotels in Maharashtra will train their staff to spot signs of sex trafficking, including frequent requests for bed linen changes and 'Do not disturb' signs left on room doors for days. A mobile ph...</td>\n",
              "      <td>Hotels in Mumbai and other Indian cities are to train their staff to spot signs of sex trafficking such as frequent requests for bed linen changes or a \"Do not disturb\" sign left on the door for d...</td>\n",
              "      <td>NaN</td>\n",
              "      <td>NaN</td>\n",
              "      <td>NaN</td>\n",
              "      <td>NaN</td>\n",
              "      <td>NaN</td>\n",
              "      <td>NaN</td>\n",
              "      <td>NaN</td>\n",
              "      <td>NaN</td>\n",
              "      <td>NaN</td>\n",
              "      <td>NaN</td>\n",
              "      <td>NaN</td>\n",
              "      <td>NaN</td>\n",
              "      <td>NaN</td>\n",
              "      <td>NaN</td>\n",
              "      <td>NaN</td>\n",
              "      <td>NaN</td>\n",
              "      <td>NaN</td>\n",
              "      <td>NaN</td>\n",
              "      <td>NaN</td>\n",
              "      <td>NaN</td>\n",
              "      <td>NaN</td>\n",
              "      <td>NaN</td>\n",
              "      <td>NaN</td>\n",
              "      <td>NaN</td>\n",
              "      <td>NaN</td>\n",
              "      <td>NaN</td>\n",
              "      <td>NaN</td>\n",
              "      <td>NaN</td>\n",
              "      <td>NaN</td>\n",
              "      <td>NaN</td>\n",
              "      <td>NaN</td>\n",
              "      <td>NaN</td>\n",
              "      <td>NaN</td>\n",
              "      <td>NaN</td>\n",
              "      <td>...</td>\n",
              "      <td>NaN</td>\n",
              "      <td>NaN</td>\n",
              "      <td>NaN</td>\n",
              "      <td>NaN</td>\n",
              "      <td>NaN</td>\n",
              "      <td>NaN</td>\n",
              "      <td>NaN</td>\n",
              "      <td>NaN</td>\n",
              "      <td>NaN</td>\n",
              "      <td>NaN</td>\n",
              "      <td>NaN</td>\n",
              "      <td>NaN</td>\n",
              "      <td>NaN</td>\n",
              "      <td>NaN</td>\n",
              "      <td>NaN</td>\n",
              "      <td>NaN</td>\n",
              "      <td>NaN</td>\n",
              "      <td>NaN</td>\n",
              "      <td>NaN</td>\n",
              "      <td>NaN</td>\n",
              "      <td>NaN</td>\n",
              "      <td>NaN</td>\n",
              "      <td>NaN</td>\n",
              "      <td>NaN</td>\n",
              "      <td>NaN</td>\n",
              "      <td>NaN</td>\n",
              "      <td>NaN</td>\n",
              "      <td>NaN</td>\n",
              "      <td>NaN</td>\n",
              "      <td>NaN</td>\n",
              "      <td>NaN</td>\n",
              "      <td>NaN</td>\n",
              "      <td>NaN</td>\n",
              "      <td>NaN</td>\n",
              "      <td>NaN</td>\n",
              "      <td>NaN</td>\n",
              "      <td>NaN</td>\n",
              "      <td>NaN</td>\n",
              "      <td>NaN</td>\n",
              "      <td>NaN</td>\n",
              "    </tr>\n",
              "  </tbody>\n",
              "</table>\n",
              "<p>5 rows × 282 columns</p>\n",
              "</div>"
            ],
            "text/plain": [
              "               author                  date  ... Unnamed: 280 Unnamed: 281\n",
              "0        Chhavi Tyagi  03 Aug 2017,Thursday  ...          NaN          NaN\n",
              "1         Daisy Mowke  03 Aug 2017,Thursday  ...          NaN          NaN\n",
              "2      Arshiya Chopra  03 Aug 2017,Thursday  ...          NaN          NaN\n",
              "3       Sumedha Sehra  03 Aug 2017,Thursday  ...          NaN          NaN\n",
              "4  Aarushi Maheshwari  03 Aug 2017,Thursday  ...          NaN          NaN\n",
              "\n",
              "[5 rows x 282 columns]"
            ]
          },
          "metadata": {
            "tags": []
          },
          "execution_count": 4
        }
      ]
    },
    {
      "cell_type": "code",
      "metadata": {
        "id": "persistent-george"
      },
      "source": [
        "new_dataset=dataset[[\"text\",\"ctext\"]]"
      ],
      "id": "persistent-george",
      "execution_count": 5,
      "outputs": []
    },
    {
      "cell_type": "code",
      "metadata": {
        "colab": {
          "base_uri": "https://localhost:8080/"
        },
        "id": "decent-rebecca",
        "outputId": "448d5db5-825f-402d-fda1-847c28dada22"
      },
      "source": [
        "#check the null cell if there are\n",
        "new_dataset.isnull().sum()"
      ],
      "id": "decent-rebecca",
      "execution_count": 6,
      "outputs": [
        {
          "output_type": "execute_result",
          "data": {
            "text/plain": [
              "text       1\n",
              "ctext    119\n",
              "dtype: int64"
            ]
          },
          "metadata": {
            "tags": []
          },
          "execution_count": 6
        }
      ]
    },
    {
      "cell_type": "code",
      "metadata": {
        "id": "threatened-valley"
      },
      "source": [
        "# del the null cells\n",
        "new_dataset= new_dataset.dropna()"
      ],
      "id": "threatened-valley",
      "execution_count": 7,
      "outputs": []
    },
    {
      "cell_type": "code",
      "metadata": {
        "colab": {
          "base_uri": "https://localhost:8080/",
          "height": 374
        },
        "id": "velvet-spelling",
        "outputId": "4da17a2f-abd5-4e62-f097-022f213ab5e3"
      },
      "source": [
        "new_dataset.head()"
      ],
      "id": "velvet-spelling",
      "execution_count": 8,
      "outputs": [
        {
          "output_type": "execute_result",
          "data": {
            "text/html": [
              "<div>\n",
              "<style scoped>\n",
              "    .dataframe tbody tr th:only-of-type {\n",
              "        vertical-align: middle;\n",
              "    }\n",
              "\n",
              "    .dataframe tbody tr th {\n",
              "        vertical-align: top;\n",
              "    }\n",
              "\n",
              "    .dataframe thead th {\n",
              "        text-align: right;\n",
              "    }\n",
              "</style>\n",
              "<table border=\"1\" class=\"dataframe\">\n",
              "  <thead>\n",
              "    <tr style=\"text-align: right;\">\n",
              "      <th></th>\n",
              "      <th>text</th>\n",
              "      <th>ctext</th>\n",
              "    </tr>\n",
              "  </thead>\n",
              "  <tbody>\n",
              "    <tr>\n",
              "      <th>0</th>\n",
              "      <td>The Administration of Union Territory Daman and Diu has revoked its order that made it compulsory for women to tie rakhis to their male colleagues on the occasion of Rakshabandhan on August 7. The...</td>\n",
              "      <td>The Daman and Diu administration on Wednesday withdrew a circular that asked women staff to tie rakhis on male colleagues after the order triggered a backlash from employees and was ripped apart o...</td>\n",
              "    </tr>\n",
              "    <tr>\n",
              "      <th>1</th>\n",
              "      <td>Malaika Arora slammed an Instagram user who trolled her for \"divorcing a rich man\" and \"having fun with the alimony\". \"Her life now is all about wearing short clothes, going to gym or salon, enjoy...</td>\n",
              "      <td>From her special numbers to TV?appearances, Bollywood actor Malaika Arora Khan has managed to carve her own identity. The actor, who made her debut in the Hindi film industry with the blockbuster ...</td>\n",
              "    </tr>\n",
              "    <tr>\n",
              "      <th>2</th>\n",
              "      <td>The Indira Gandhi Institute of Medical Sciences (IGIMS) in Patna on Thursday made corrections in its Marital Declaration Form by changing 'Virgin' option to 'Unmarried'. Earlier, Bihar Health Mini...</td>\n",
              "      <td>The Indira Gandhi Institute of Medical Sciences (IGIMS) in Patna amended its marital declaration form on Thursday, replacing the word ?virgin? with ?unmarried? after controversy.Until now, new rec...</td>\n",
              "    </tr>\n",
              "    <tr>\n",
              "      <th>3</th>\n",
              "      <td>Lashkar-e-Taiba's Kashmir commander Abu Dujana, who was killed by security forces, said \"Kabhi hum aage, kabhi aap, aaj aapne pakad liya, mubarak ho aapko (Today you caught me. Congratulations)\" a...</td>\n",
              "      <td>Lashkar-e-Taiba's Kashmir commander Abu Dujana was killed in an encounter in a village in Pulwama district of Jammu and Kashmir earlier this week. Dujana, who had managed to give the security forc...</td>\n",
              "    </tr>\n",
              "    <tr>\n",
              "      <th>4</th>\n",
              "      <td>Hotels in Maharashtra will train their staff to spot signs of sex trafficking, including frequent requests for bed linen changes and 'Do not disturb' signs left on room doors for days. A mobile ph...</td>\n",
              "      <td>Hotels in Mumbai and other Indian cities are to train their staff to spot signs of sex trafficking such as frequent requests for bed linen changes or a \"Do not disturb\" sign left on the door for d...</td>\n",
              "    </tr>\n",
              "  </tbody>\n",
              "</table>\n",
              "</div>"
            ],
            "text/plain": [
              "                                                                                                                                                                                                      text                                                                                                                                                                                                    ctext\n",
              "0  The Administration of Union Territory Daman and Diu has revoked its order that made it compulsory for women to tie rakhis to their male colleagues on the occasion of Rakshabandhan on August 7. The...  The Daman and Diu administration on Wednesday withdrew a circular that asked women staff to tie rakhis on male colleagues after the order triggered a backlash from employees and was ripped apart o...\n",
              "1  Malaika Arora slammed an Instagram user who trolled her for \"divorcing a rich man\" and \"having fun with the alimony\". \"Her life now is all about wearing short clothes, going to gym or salon, enjoy...  From her special numbers to TV?appearances, Bollywood actor Malaika Arora Khan has managed to carve her own identity. The actor, who made her debut in the Hindi film industry with the blockbuster ...\n",
              "2  The Indira Gandhi Institute of Medical Sciences (IGIMS) in Patna on Thursday made corrections in its Marital Declaration Form by changing 'Virgin' option to 'Unmarried'. Earlier, Bihar Health Mini...  The Indira Gandhi Institute of Medical Sciences (IGIMS) in Patna amended its marital declaration form on Thursday, replacing the word ?virgin? with ?unmarried? after controversy.Until now, new rec...\n",
              "3  Lashkar-e-Taiba's Kashmir commander Abu Dujana, who was killed by security forces, said \"Kabhi hum aage, kabhi aap, aaj aapne pakad liya, mubarak ho aapko (Today you caught me. Congratulations)\" a...  Lashkar-e-Taiba's Kashmir commander Abu Dujana was killed in an encounter in a village in Pulwama district of Jammu and Kashmir earlier this week. Dujana, who had managed to give the security forc...\n",
              "4  Hotels in Maharashtra will train their staff to spot signs of sex trafficking, including frequent requests for bed linen changes and 'Do not disturb' signs left on room doors for days. A mobile ph...  Hotels in Mumbai and other Indian cities are to train their staff to spot signs of sex trafficking such as frequent requests for bed linen changes or a \"Do not disturb\" sign left on the door for d..."
            ]
          },
          "metadata": {
            "tags": []
          },
          "execution_count": 8
        }
      ]
    },
    {
      "cell_type": "code",
      "metadata": {
        "colab": {
          "base_uri": "https://localhost:8080/"
        },
        "id": "anonymous-diving",
        "outputId": "c5c78433-6865-42b0-ac91-c080a3d81726"
      },
      "source": [
        "# Now Inspecting our dataset for 5 texts\n",
        "for i in range(5):\n",
        "    print(\"Text #\",i+1)\n",
        "    print(new_dataset.ctext[i])\n",
        "    print(\"Summary #\",i+1)\n",
        "    print(new_dataset.text[i])\n",
        "    print()"
      ],
      "id": "anonymous-diving",
      "execution_count": 9,
      "outputs": [
        {
          "output_type": "stream",
          "text": [
            "Text # 1\n",
            "The Daman and Diu administration on Wednesday withdrew a circular that asked women staff to tie rakhis on male colleagues after the order triggered a backlash from employees and was ripped apart on social media.The union territory?s administration was forced to retreat within 24 hours of issuing the circular that made it compulsory for its staff to celebrate Rakshabandhan at workplace.?It has been decided to celebrate the festival of Rakshabandhan on August 7. In this connection, all offices/ departments shall remain open and celebrate the festival collectively at a suitable time wherein all the lady staff shall tie rakhis to their colleagues,? the order, issued on August 1 by Gurpreet Singh, deputy secretary (personnel), had said.To ensure that no one skipped office, an attendance report was to be sent to the government the next evening.The two notifications ? one mandating the celebration of Rakshabandhan (left) and the other withdrawing the mandate (right) ? were issued by the Daman and Diu administration a day apart. The circular was withdrawn through a one-line order issued late in the evening by the UT?s department of personnel and administrative reforms.?The circular is ridiculous. There are sensitivities involved. How can the government dictate who I should tie rakhi to? We should maintain the professionalism of a workplace? an official told Hindustan Times earlier in the day. She refused to be identified.The notice was issued on Daman and Diu administrator and former Gujarat home minister Praful Kodabhai Patel?s direction, sources said.Rakshabandhan, a celebration of the bond between brothers and sisters, is one of several Hindu festivities and rituals that are no longer confined of private, family affairs but have become tools to push politic al ideologies.In 2014, the year BJP stormed to power at the Centre, Rashtriya Swayamsevak Sangh (RSS) chief Mohan Bhagwat said the festival had ?national significance? and should be celebrated widely ?to protect Hindu culture and live by the values enshrined in it?. The RSS is the ideological parent of the ruling BJP.Last year, women ministers in the Modi government went to the border areas to celebrate the festival with soldiers. A year before, all cabinet ministers were asked to go to their constituencies for the festival.\n",
            "Summary # 1\n",
            "The Administration of Union Territory Daman and Diu has revoked its order that made it compulsory for women to tie rakhis to their male colleagues on the occasion of Rakshabandhan on August 7. The administration was forced to withdraw the decision within 24 hours of issuing the circular after it received flak from employees and was slammed on social media.\n",
            "\n",
            "Text # 2\n",
            "From her special numbers to TV?appearances, Bollywood actor Malaika Arora Khan has managed to carve her own identity. The actor, who made her debut in the Hindi film industry with the blockbuster debut opposite Shah Rukh Khan in Chaiyya Chaiyya from Dil Se (1998), is still remembered for the song. However, for trolls, she is a woman first and what matters right now is that she divorced a ?rich man?.  On Wednesday, Malaika Arora shared a gorgeous picture of herself on Instagram and a follower decided to troll her for using her ?alumni? (read alimony) money to wear ?short clothes and going to gym or salon?. Little did he/she know that the Munni Badnam star would reply with the perfect comeback. Take a look at the interaction:     Super excited to be affiliated with Khanna Jewellers @khannajewellerskj as their brand ambassador. Crafted to perfection, their stunning statement jewellery is a must have for every jewellery lover. #khannajewellers...#maksquad?? #hair @hairbypriyanka #stylist @manekaharisinghani #manager @ektakauroberoi #mua? @subbu28 #photographer @prasdnaik A post shared by Malaika Arora Khan (@malaikaarorakhanofficial) on Aug 2, 2017 at 6:20am PDT Then, Malaika decided to reply: The entire conversation only proves that no matter if a woman is successful, she will be attacked the moment she decides to step out of bounds the society decided for her. Apart from being a successful woman who lives life on her own terms, Malaika has literally played all the roles traditionally prescribed for a woman - she married quite early, had a son and raised him and was always around with the ?khandan?. But then, she got divorced and alimony is the taunt being thrown at her. The details of the alimony are only known to Malaika, her husband Arbaaz Khan and perhaps the family. The couple has handled the divorce with the utmost dignity. But we can vouch for the fact that she did not  need an alimony to buy clothes (short or not, her choice), go on vacations and enjoy her life. If anything, she is as successful, if not more, than her ex-husband.What happened between Arbaaz and Malaika is their personal concern. But to claim that Malaika married and then divorced Arbaaz for money doesn?t hold water. For those who do not agree, please get a course in feminism and for others, here?s a playlist of some of her most popular songs. Follow @htshowbiz for more\n",
            "Summary # 2\n",
            "Malaika Arora slammed an Instagram user who trolled her for \"divorcing a rich man\" and \"having fun with the alimony\". \"Her life now is all about wearing short clothes, going to gym or salon, enjoying vacation[s],\" the user commented. Malaika responded, \"You certainly got to get your damn facts right before spewing sh*t on me...when you know nothing about me.\"\n",
            "\n",
            "Text # 3\n",
            "The Indira Gandhi Institute of Medical Sciences (IGIMS) in Patna amended its marital declaration form on Thursday, replacing the word ?virgin? with ?unmarried? after controversy.Until now, new recruits to the super-specialty medical institute in the state capital were required to declare if they were bachelors, widowers or virgins.IGIMS medical superintendent Dr Manish Mandal said institute director Dr NR Biswas held a meeting on Thursday morning before directing that the word ?virgin? on the marital declaration form be immediately replaced with ?unmarried?. Dr Biswas had just returned after a four-day leave of absence.Earlier, Bihar health minister Mangal Pandey had ended up redefining the very meaning of virginity in his attempts to justify the awkward phrasing of the question in the form. Following a public furore over the document on Wednesday, the minister told news channels that there was nothing wrong with using the word ?virgin? because it simply meant ?kanya? or ?kunwari? ? which means an unmarried girl.Pandey had joined the cabinet just three days ago.Sources said the chief minister?s office had also taken cognizance of the issue, and asked for a copy of the form. It had even asked why the question was introduced in the first place.In its response, the management of the autonomous super-specialty health facility had clarified on Wednesday that it was in adherence to the central civil services rules followed by the All India Institute of Medical Sciences in New Delhi.The previous version of the marital declaration form, which purportedly asked new recruits if they were virgins.\n",
            "\t\t\t\t\t\t\t(HT Photo)\n",
            "\t\t\t\t\t\tThe marital declaration form had been in existence since the inception of the institute in 1983. Some officials blamed the faux pas on poor translation on the part of individuals who drafted the document.?The word ?virgin? mentioned on the form had nothing to do with the virginity of any employee. It only sought to know the employees? marital status, so their dues could be settled on the basis of their declaration in the event of death while in service,? said Dr Mandal.\n",
            "Summary # 3\n",
            "The Indira Gandhi Institute of Medical Sciences (IGIMS) in Patna on Thursday made corrections in its Marital Declaration Form by changing 'Virgin' option to 'Unmarried'. Earlier, Bihar Health Minister defined virgin as being an unmarried woman and did not consider the term objectionable. The institute, however, faced strong backlash for asking new recruits to declare their virginity in the form.\n",
            "\n",
            "Text # 4\n",
            "Lashkar-e-Taiba's Kashmir commander Abu Dujana was killed in an encounter in a village in Pulwama district of Jammu and Kashmir earlier this week. Dujana, who had managed to give the security forces a slip several times in the past, carried a bounty of Rs 15 lakh on his head.Reports say that Dujana had come to meet his wife when he was trapped inside a house in Hakripora village. Security officials involved in the encounter tried their best to convince Dujana to surrender but he refused, reports say.According to reports, Dujana rejected call for surrender from an Army officer. The Army had commissioned a local to start a telephonic conversation with Dujana. After initiating the talk, the local villager handed over the phone to the army officer.\"Kya haal hai? Maine kaha, kya haal hai (How are you. I asked, how are you)?\" Dujana is heard asking the officer. The officer replies: \"Humara haal chhor Dujana. Surrender kyun nahi kar deta. Tu galat kar rha hai (Why don't you surrender? You have married this girl. What you are doing isn't right.)\"When told that he is being used by Pakistani agencies as a pawn, Dujana, who sounded calm and unperturbed of the situation, said \"Hum nikley they shaheed hone. Main kya karu. Jisko game khelna hai, khelo. Kabhi hum aage, kabhi aap, aaj aapne pakad liya, mubarak ho aapko. Jisko jo karna hai karlo (I had left home for martyrdom. What can I do? Today you caught me. Congratulations. \"Surrender nahi kar sakta. Jo meri kismat may likha hoga, Allah wahi karega, theek hai? (I won't surrender. Allaah would do whatever is there in my fate)\" Dujana went on to say. Dujana, who belonged to Pakistan, was Lashkar-e-Taiba's divisional commander in south Kashmir. He was among the top 10 terrorists identified by the Indian Army in Jammu and Kashmir.With a Rs 15 lakh bounty on his head, Dujana was labelled an 'A++' terrorist - the top grade which was also given to Burhan Wani.Security forces received inputs that during the last few days he was frequenting the houses of his wife Rukaiya and girlfriend Shazia. Police was keeping a watch on both the houses. when it was confirmed he was present in his wife's house, security forces moved in to trap him.ALSO READ:After Abu Dujana, security forces prepare new hitlist of most wanted terroristsAbu Dujana encounter: Jilted lover turned police informer led security forces to LeT commander\n",
            "Summary # 4\n",
            "Lashkar-e-Taiba's Kashmir commander Abu Dujana, who was killed by security forces, said \"Kabhi hum aage, kabhi aap, aaj aapne pakad liya, mubarak ho aapko (Today you caught me. Congratulations)\" after being caught. He added that he won't surrender, and whatever is in his fate will happen to him. \"Hum nikley they shaheed hone (had left home for martyrdom),\" he added.\n",
            "\n",
            "Text # 5\n",
            "Hotels in Mumbai and other Indian cities are to train their staff to spot signs of sex trafficking such as frequent requests for bed linen changes or a \"Do not disturb\" sign left on the door for days on end. The group behind the initiative is also developing a mobile phone app - Rescue Me - which hotel staff can use to alert local police and senior anti-trafficking officers if they see suspicious behavior. \"Hotels are breeding grounds for human trade,\" said Sanee Awsarmmel, chairman of the alumni group of Maharashtra State Institute of Hotel Management and Catering Technology. \"(We) have hospitality professionals working in hotels across the country. We are committed to this cause.\"The initiative, spearheaded by the alumni group and backed by the Maharashtra state government, comes amid growing international recognition that hotels have a key role to play in fighting modern day slavery. MAHARASHTRA MAJOR DESTINATION FOR TRAFFICKED GIRLS Maharashtra, of which Mumbai is the capital, is a major destination for trafficked girls who are lured from poor states and nearby countries on the promise of jobs, but then sold into the sex trade or domestic servitude. With rising property prices, some traditional red light districts like those in Mumbai have started to disappear pushing the sex trade underground into private lodges and hotels, which makes it hard for police to monitor.Awsarmmel said hotels would be told about 50 signs that staff needed to watch out for.These include requests for rooms with a view of the car park which are favored by traffickers as they allow them to vet clients for signs of trouble and check out their cars to gauge how much to charge.Awsarmmel said hotel staff often noticed strange behavior such as a girl's reticence during the check-in process or her dependence on the person accompanying her to answer questions and provide her proof of identity.But in most cases, staff ignore these signs or have no idea what to do, he told the Thomson Reuters Foundation.RESCUE ME APP The Rescue Me app - to be launched in a couple of months - will have a text feature where hotel staff can fill in details including room numbers to send an alert to police.Human trafficking is the world's fastest growing criminal enterprise worth an estimated $150 billion a year, according to the International Labor Organization, which says nearly 21 million people globally are victims of forced labor and trafficking.Last year, major hotel groups, including the Hilton and Shiva Hotels, pledged to examine their supply chains for forced labor, and train staff how to spot and report signs of trafficking.Earlier this year, Mexico City also launched an initiative to train hotel staff about trafficking.Vijaya Rahatkar, chairwoman of the Maharashtra State Women's Commission, said the initiative would have an impact beyond the state as the alumni group had contact with about a million small hotels across India.The group is also developing a training module on trafficking for hotel staff and hospitality students which could be used across the country.ALSO READFYI | Legal revenge: Child sex trafficking survivors get 'School of Justice' to fight their own battlesMumbai: Woman DJ arrested in high-profile sex racket case\n",
            "Summary # 5\n",
            "Hotels in Maharashtra will train their staff to spot signs of sex trafficking, including frequent requests for bed linen changes and 'Do not disturb' signs left on room doors for days. A mobile phone app called Rescue Me, which will allow staff to alert police of suspicious behaviour, will be developed. The initiative has been backed by the Maharashtra government.\n",
            "\n"
          ],
          "name": "stdout"
        }
      ]
    },
    {
      "cell_type": "code",
      "metadata": {
        "id": "simple-boards"
      },
      "source": [
        "# We must prepering the our data now\n",
        "# A list of contractions \n",
        "contractions = { \n",
        "\"ain't\": \"am not\",\n",
        "\"aren't\": \"are not\",\n",
        "\"can't\": \"cannot\",\n",
        "\"can't've\": \"cannot have\",\n",
        "\"'cause\": \"because\",\n",
        "\"could've\": \"could have\",\n",
        "\"couldn't\": \"could not\",\n",
        "\"couldn't've\": \"could not have\",\n",
        "\"didn't\": \"did not\",\n",
        "\"doesn't\": \"does not\",\n",
        "\"don't\": \"do not\",\n",
        "\"hadn't\": \"had not\",\n",
        "\"hadn't've\": \"had not have\",\n",
        "\"hasn't\": \"has not\",\n",
        "\"haven't\": \"have not\",\n",
        "\"he'd\": \"he would\",\n",
        "\"he'd've\": \"he would have\",\n",
        "\"he'll\": \"he will\",\n",
        "\"he's\": \"he is\",\n",
        "\"how'd\": \"how did\",\n",
        "\"how'll\": \"how will\",\n",
        "\"how's\": \"how is\",\n",
        "\"i'd\": \"i would\",\n",
        "\"i'll\": \"i will\",\n",
        "\"i'm\": \"i am\",\n",
        "\"i've\": \"i have\",\n",
        "\"isn't\": \"is not\",\n",
        "\"it'd\": \"it would\",\n",
        "\"it'll\": \"it will\",\n",
        "\"it's\": \"it is\",\n",
        "\"let's\": \"let us\",\n",
        "\"ma'am\": \"madam\",\n",
        "\"mayn't\": \"may not\",\n",
        "\"might've\": \"might have\",\n",
        "\"mightn't\": \"might not\",\n",
        "\"must've\": \"must have\",\n",
        "\"mustn't\": \"must not\",\n",
        "\"needn't\": \"need not\",\n",
        "\"oughtn't\": \"ought not\",\n",
        "\"shan't\": \"shall not\",\n",
        "\"sha'n't\": \"shall not\",\n",
        "\"she'd\": \"she would\",\n",
        "\"she'll\": \"she will\",\n",
        "\"she's\": \"she is\",\n",
        "\"should've\": \"should have\",\n",
        "\"shouldn't\": \"should not\",\n",
        "\"that'd\": \"that would\",\n",
        "\"that's\": \"that is\",\n",
        "\"there'd\": \"there had\",\n",
        "\"there's\": \"there is\",\n",
        "\"they'd\": \"they would\",\n",
        "\"they'll\": \"they will\",\n",
        "\"they're\": \"they are\",\n",
        "\"they've\": \"they have\",\n",
        "\"wasn't\": \"was not\",\n",
        "\"we'd\": \"we would\",\n",
        "\"we'll\": \"we will\",\n",
        "\"we're\": \"we are\",\n",
        "\"we've\": \"we have\",\n",
        "\"weren't\": \"were not\",\n",
        "\"what'll\": \"what will\",\n",
        "\"what're\": \"what are\",\n",
        "\"what's\": \"what is\",\n",
        "\"what've\": \"what have\",\n",
        "\"where'd\": \"where did\",\n",
        "\"where's\": \"where is\",\n",
        "\"who'll\": \"who will\",\n",
        "\"who's\": \"who is\",\n",
        "\"won't\": \"will not\",\n",
        "\"wouldn't\": \"would not\",\n",
        "\"you'd\": \"you would\",\n",
        "\"you'll\": \"you will\",\n",
        "\"you're\": \"you are\"\n",
        "}"
      ],
      "id": "simple-boards",
      "execution_count": 10,
      "outputs": []
    },
    {
      "cell_type": "code",
      "metadata": {
        "id": "suitable-payroll"
      },
      "source": [
        "def cleanText(text, removeStopwords = True):\n",
        "    '''Remove unwanted characters, stopwords, and format the text to create fewer nulls word embeddings'''\n",
        "    \n",
        "    # Convert words to lower case\n",
        "    text = text.lower()\n",
        "    \n",
        "    # Replace contractions with their longer forms \n",
        "    if True:\n",
        "        text = text.split()\n",
        "        newText = []\n",
        "        for word in text:\n",
        "            if word in contractions:\n",
        "                newText.append(contractions[word])\n",
        "            else:\n",
        "                newText.append(word)\n",
        "        text = \" \".join(newText)\n",
        "    \n",
        "    # Format words and remove unwanted characters\n",
        "    text = re.sub(r'https?:\\/\\/.*[\\r\\n]*', '', text, flags=re.MULTILINE)\n",
        "    text = re.sub(r'\\<a href', ' ', text)\n",
        "    text = re.sub(r'&amp;', '', text) \n",
        "    text = re.sub(r'[_\"\\-;%()|+&=*%.,!?:#$@\\[\\]/]', ' ', text)\n",
        "    text = re.sub(r'<br />', ' ', text)\n",
        "    text = re.sub(r'\\'', ' ', text)\n",
        "    \n",
        "    # Optionally, remove stop words\n",
        "    if removeStopwords:\n",
        "        text = text.split()\n",
        "        stops = set(stopwords.words(\"english\"))\n",
        "        text = [w for w in text if not w in stops]\n",
        "        text = \" \".join(text)\n",
        "\n",
        "    return text\n"
      ],
      "id": "suitable-payroll",
      "execution_count": 11,
      "outputs": []
    },
    {
      "cell_type": "code",
      "metadata": {
        "colab": {
          "base_uri": "https://localhost:8080/"
        },
        "id": "congressional-sleeve",
        "outputId": "3d85bcd7-fce2-4fe7-8de3-1334dd7227a7"
      },
      "source": [
        "nltk.download('stopwords')\n",
        "  \n",
        "# Clean the summaries and texts\n",
        "clean_summaries = []\n",
        "for summary in new_dataset.text:\n",
        "    clean_summaries.append(cleanText(summary, removeStopwords=False))\n",
        "print(\"Summaries are complete.\")\n",
        "\n",
        "clean_texts = []\n",
        "for text in new_dataset.ctext:\n",
        "    clean_texts.append(cleanText(text))\n",
        "print(\"Texts are complete.\")"
      ],
      "id": "congressional-sleeve",
      "execution_count": 12,
      "outputs": [
        {
          "output_type": "stream",
          "text": [
            "[nltk_data] Downloading package stopwords to /root/nltk_data...\n",
            "[nltk_data]   Unzipping corpora/stopwords.zip.\n",
            "Summaries are complete.\n",
            "Texts are complete.\n"
          ],
          "name": "stdout"
        }
      ]
    },
    {
      "cell_type": "code",
      "metadata": {
        "colab": {
          "base_uri": "https://localhost:8080/"
        },
        "id": "western-fifty",
        "outputId": "fea02be4-75b7-432b-f69b-5270231a9873"
      },
      "source": [
        "# Inspect the cleaned summaries and texts to ensure they have been cleaned well\n",
        "for i in range(5):\n",
        "    print(\"Clean Review #\",i+1)\n",
        "    print(clean_texts[i])\n",
        "    print(clean_summaries[i])\n",
        "    print()"
      ],
      "id": "western-fifty",
      "execution_count": 13,
      "outputs": [
        {
          "output_type": "stream",
          "text": [
            "Clean Review # 1\n",
            "daman diu administration wednesday withdrew circular asked women staff tie rakhis male colleagues order triggered backlash employees ripped apart social media union territory administration forced retreat within 24 hours issuing circular made compulsory staff celebrate rakshabandhan workplace decided celebrate festival rakshabandhan august 7 connection offices departments shall remain open celebrate festival collectively suitable time wherein lady staff shall tie rakhis colleagues order issued august 1 gurpreet singh deputy secretary personnel said ensure one skipped office attendance report sent government next evening two notifications one mandating celebration rakshabandhan left withdrawing mandate right issued daman diu administration day apart circular withdrawn one line order issued late evening ut department personnel administrative reforms circular ridiculous sensitivities involved government dictate tie rakhi maintain professionalism workplace official told hindustan times earlier day refused identified notice issued daman diu administrator former gujarat home minister praful kodabhai patel direction sources said rakshabandhan celebration bond brothers sisters one several hindu festivities rituals longer confined private family affairs become tools push politic al ideologies 2014 year bjp stormed power centre rashtriya swayamsevak sangh rss chief mohan bhagwat said festival national significance celebrated widely protect hindu culture live values enshrined rss ideological parent ruling bjp last year women ministers modi government went border areas celebrate festival soldiers year cabinet ministers asked go constituencies festival\n",
            "the administration of union territory daman and diu has revoked its order that made it compulsory for women to tie rakhis to their male colleagues on the occasion of rakshabandhan on august 7  the administration was forced to withdraw the decision within 24 hours of issuing the circular after it received flak from employees and was slammed on social media \n",
            "\n",
            "Clean Review # 2\n",
            "special numbers tv appearances bollywood actor malaika arora khan managed carve identity actor made debut hindi film industry blockbuster debut opposite shah rukh khan chaiyya chaiyya dil se 1998 still remembered song however trolls woman first matters right divorced rich man wednesday malaika arora shared gorgeous picture instagram follower decided troll using alumni read alimony money wear short clothes going gym salon little know munni badnam star would reply perfect comeback take look interaction super excited affiliated khanna jewellers khannajewellerskj brand ambassador crafted perfection stunning statement jewellery must every jewellery lover khannajewellers maksquad hair hairbypriyanka stylist manekaharisinghani manager ektakauroberoi mua subbu28 photographer prasdnaik post shared malaika arora khan malaikaarorakhanofficial aug 2 2017 6 20am pdt malaika decided reply entire conversation proves matter woman successful attacked moment decides step bounds society decided apart successful woman lives life terms malaika literally played roles traditionally prescribed woman married quite early son raised always around khandan got divorced alimony taunt thrown details alimony known malaika husband arbaaz khan perhaps family couple handled divorce utmost dignity vouch fact need alimony buy clothes short choice go vacations enjoy life anything successful ex husband happened arbaaz malaika personal concern claim malaika married divorced arbaaz money hold water agree please get course feminism others playlist popular songs follow htshowbiz\n",
            "malaika arora slammed an instagram user who trolled her for  divorcing a rich man  and  having fun with the alimony    her life now is all about wearing short clothes  going to gym or salon  enjoying vacation s    the user commented  malaika responded   you certainly got to get your damn facts right before spewing sh t on me   when you know nothing about me  \n",
            "\n",
            "Clean Review # 3\n",
            "indira gandhi institute medical sciences igims patna amended marital declaration form thursday replacing word virgin unmarried controversy new recruits super specialty medical institute state capital required declare bachelors widowers virgins igims medical superintendent dr manish mandal said institute director dr nr biswas held meeting thursday morning directing word virgin marital declaration form immediately replaced unmarried dr biswas returned four day leave absence earlier bihar health minister mangal pandey ended redefining meaning virginity attempts justify awkward phrasing question form following public furore document wednesday minister told news channels nothing wrong using word virgin simply meant kanya kunwari means unmarried girl pandey joined cabinet three days ago sources said chief minister office also taken cognizance issue asked copy form even asked question introduced first place response management autonomous super specialty health facility clarified wednesday adherence central civil services rules followed india institute medical sciences new delhi previous version marital declaration form purportedly asked new recruits virgins ht photo marital declaration form existence since inception institute 1983 officials blamed faux pas poor translation part individuals drafted document word virgin mentioned form nothing virginity employee sought know employees marital status dues could settled basis declaration event death service said dr mandal\n",
            "the indira gandhi institute of medical sciences  igims  in patna on thursday made corrections in its marital declaration form by changing  virgin  option to  unmarried   earlier  bihar health minister defined virgin as being an unmarried woman and did not consider the term objectionable  the institute  however  faced strong backlash for asking new recruits to declare their virginity in the form \n",
            "\n",
            "Clean Review # 4\n",
            "lashkar e taiba kashmir commander abu dujana killed encounter village pulwama district jammu kashmir earlier week dujana managed give security forces slip several times past carried bounty rs 15 lakh head reports say dujana come meet wife trapped inside house hakripora village security officials involved encounter tried best convince dujana surrender refused reports say according reports dujana rejected call surrender army officer army commissioned local start telephonic conversation dujana initiating talk local villager handed phone army officer kya haal hai maine kaha kya haal hai asked dujana heard asking officer officer replies humara haal chhor dujana surrender kyun nahi kar deta tu galat kar rha hai surrender married girl right told used pakistani agencies pawn dujana sounded calm unperturbed situation said hum nikley shaheed hone main kya karu jisko game khelna hai khelo kabhi hum aage kabhi aap aaj aapne pakad liya mubarak ho aapko jisko jo karna hai karlo left home martyrdom today caught congratulations surrender nahi kar sakta jo meri kismat may likha hoga allah wahi karega theek hai surrender allaah would whatever fate dujana went say dujana belonged pakistan lashkar e taiba divisional commander south kashmir among top 10 terrorists identified indian army jammu kashmir rs 15 lakh bounty head dujana labelled terrorist top grade also given burhan wani security forces received inputs last days frequenting houses wife rukaiya girlfriend shazia police keeping watch houses confirmed present wife house security forces moved trap also read abu dujana security forces prepare new hitlist wanted terroristsabu dujana encounter jilted lover turned police informer led security forces let commander\n",
            "lashkar e taiba s kashmir commander abu dujana  who was killed by security forces  said  kabhi hum aage  kabhi aap  aaj aapne pakad liya  mubarak ho aapko  today you caught me  congratulations   after being caught  he added that he will not surrender  and whatever is in his fate will happen to him   hum nikley they shaheed hone  had left home for martyrdom    he added \n",
            "\n",
            "Clean Review # 5\n",
            "hotels mumbai indian cities train staff spot signs sex trafficking frequent requests bed linen changes disturb sign left door days end group behind initiative also developing mobile phone app rescue hotel staff use alert local police senior anti trafficking officers see suspicious behavior hotels breeding grounds human trade said sanee awsarmmel chairman alumni group maharashtra state institute hotel management catering technology hospitality professionals working hotels across country committed cause initiative spearheaded alumni group backed maharashtra state government comes amid growing international recognition hotels key role play fighting modern day slavery maharashtra major destination trafficked girls maharashtra mumbai capital major destination trafficked girls lured poor states nearby countries promise jobs sold sex trade domestic servitude rising property prices traditional red light districts like mumbai started disappear pushing sex trade underground private lodges hotels makes hard police monitor awsarmmel said hotels would told 50 signs staff needed watch include requests rooms view car park favored traffickers allow vet clients signs trouble check cars gauge much charge awsarmmel said hotel staff often noticed strange behavior girl reticence check process dependence person accompanying answer questions provide proof identity cases staff ignore signs idea told thomson reuters foundation rescue app rescue app launched couple months text feature hotel staff fill details including room numbers send alert police human trafficking world fastest growing criminal enterprise worth estimated 150 billion year according international labor organization says nearly 21 million people globally victims forced labor trafficking last year major hotel groups including hilton shiva hotels pledged examine supply chains forced labor train staff spot report signs trafficking earlier year mexico city also launched initiative train hotel staff trafficking vijaya rahatkar chairwoman maharashtra state women commission said initiative would impact beyond state alumni group contact million small hotels across india group also developing training module trafficking hotel staff hospitality students could used across country also readfyi legal revenge child sex trafficking survivors get school justice fight battlesmumbai woman dj arrested high profile sex racket case\n",
            "hotels in maharashtra will train their staff to spot signs of sex trafficking  including frequent requests for bed linen changes and  do not disturb  signs left on room doors for days  a mobile phone app called rescue me  which will allow staff to alert police of suspicious behaviour  will be developed  the initiative has been backed by the maharashtra government \n",
            "\n"
          ],
          "name": "stdout"
        }
      ]
    },
    {
      "cell_type": "code",
      "metadata": {
        "id": "traditional-prior"
      },
      "source": [
        "def count_words(count_dict, text):\n",
        "    '''Count the number of occurrences of each word in a set of text'''\n",
        "    for sentence in text:\n",
        "        for word in sentence.split():\n",
        "            if word not in count_dict:\n",
        "                count_dict[word] = 1\n",
        "            else:\n",
        "                count_dict[word] += 1"
      ],
      "id": "traditional-prior",
      "execution_count": 14,
      "outputs": []
    },
    {
      "cell_type": "code",
      "metadata": {
        "colab": {
          "base_uri": "https://localhost:8080/"
        },
        "id": "rocky-marker",
        "outputId": "66d5d4f0-9edf-4031-c34c-b08bec87dcf6"
      },
      "source": [
        "\n",
        "# Find the number of times each word was used and the size of the vocabulary\n",
        "word_counts = {}\n",
        "\n",
        "count_words(word_counts, clean_summaries)\n",
        "count_words(word_counts, clean_texts)\n",
        "            \n",
        "print(\"Size of Vocabulary:\", len(word_counts))"
      ],
      "id": "rocky-marker",
      "execution_count": 15,
      "outputs": [
        {
          "output_type": "stream",
          "text": [
            "Size of Vocabulary: 81598\n"
          ],
          "name": "stdout"
        }
      ]
    },
    {
      "cell_type": "code",
      "metadata": {
        "id": "entitled-journal"
      },
      "source": [
        "clean_summaried =[]\n",
        "start='_START_'\n",
        "end = '_END_'\n",
        "for i in range(0,len(clean_summaries)):\n",
        "    clean_summaried.append(start +' '+ clean_summaries[i] + end)"
      ],
      "id": "entitled-journal",
      "execution_count": 16,
      "outputs": []
    },
    {
      "cell_type": "code",
      "metadata": {
        "colab": {
          "base_uri": "https://localhost:8080/",
          "height": 86
        },
        "id": "worse-green",
        "outputId": "66294953-39d3-42db-9d38-30631aa51964"
      },
      "source": [
        "clean_summaried[0]"
      ],
      "id": "worse-green",
      "execution_count": 17,
      "outputs": [
        {
          "output_type": "execute_result",
          "data": {
            "application/vnd.google.colaboratory.intrinsic+json": {
              "type": "string"
            },
            "text/plain": [
              "'_START_ the administration of union territory daman and diu has revoked its order that made it compulsory for women to tie rakhis to their male colleagues on the occasion of rakshabandhan on august 7  the administration was forced to withdraw the decision within 24 hours of issuing the circular after it received flak from employees and was slammed on social media _END_'"
            ]
          },
          "metadata": {
            "tags": []
          },
          "execution_count": 17
        }
      ]
    },
    {
      "cell_type": "code",
      "metadata": {
        "colab": {
          "base_uri": "https://localhost:8080/",
          "height": 281
        },
        "id": "naughty-graphics",
        "outputId": "bfee6347-f0c3-4507-c98c-0d3ca45e0aa8"
      },
      "source": [
        "import matplotlib.pyplot as plt\n",
        "text_word_count = []\n",
        "summary_word_count = []\n",
        "\n",
        "# populate the lists with sentence lengths\n",
        "for i in clean_texts:\n",
        "      text_word_count.append(len(i.split()))\n",
        "\n",
        "for i in clean_summaried:\n",
        "      summary_word_count.append(len(i.split()))\n",
        "\n",
        "length_df = pd.DataFrame({'text':text_word_count, 'summary':summary_word_count})\n",
        "length_df.hist(bins = 30)\n",
        "plt.show()"
      ],
      "id": "naughty-graphics",
      "execution_count": 18,
      "outputs": [
        {
          "output_type": "display_data",
          "data": {
            "image/png": "[encoded data removed]",
            "text/plain": [
              "<Figure size 432x288 with 2 Axes>"
            ]
          },
          "metadata": {
            "tags": [],
            "needs_background": "light"
          }
        }
      ]
    },
    {
      "cell_type": "code",
      "metadata": {
        "colab": {
          "base_uri": "https://localhost:8080/"
        },
        "id": "honey-tracy",
        "outputId": "9366e65f-6b2d-4320-9ed6-c8742ef5a4f6"
      },
      "source": [
        "#Check how much % of summary have 0-68 words\n",
        "cnt=0\n",
        "for i in clean_summaried:\n",
        "    if(len(i.split())<=68):\n",
        "        cnt=cnt+1\n",
        "print(cnt/len(clean_summaried))"
      ],
      "id": "honey-tracy",
      "execution_count": 19,
      "outputs": [
        {
          "output_type": "stream",
          "text": [
            "0.9991356652731475\n"
          ],
          "name": "stdout"
        }
      ]
    },
    {
      "cell_type": "code",
      "metadata": {
        "colab": {
          "base_uri": "https://localhost:8080/"
        },
        "id": "clear-ensemble",
        "outputId": "10c7e4aa-c388-491c-ea1e-685dc85d9187"
      },
      "source": [
        "#Check how much % of text have 0-800 words\n",
        "cnt=0\n",
        "for i in clean_texts:\n",
        "    if(len(i.split())<=600):\n",
        "        cnt=cnt+1\n",
        "print(cnt/len(clean_texts))"
      ],
      "id": "clear-ensemble",
      "execution_count": 21,
      "outputs": [
        {
          "output_type": "stream",
          "text": [
            "0.9986064807465029\n"
          ],
          "name": "stdout"
        }
      ]
    },
    {
      "cell_type": "code",
      "metadata": {
        "id": "alternative-geology"
      },
      "source": [
        "max_text_length = 600\n",
        "max_summary_length = 68"
      ],
      "id": "alternative-geology",
      "execution_count": 22,
      "outputs": []
    },
    {
      "cell_type": "code",
      "metadata": {
        "id": "angry-championship"
      },
      "source": [
        "cleaned_texts=[]\n",
        "cleaned_summaried=[]\n",
        "\n",
        "for i in range(len(clean_texts)):\n",
        "    if(len(clean_summaried[i].split())<=max_summary_length and len(clean_texts[i].split())<=max_text_length):\n",
        "        cleaned_texts.append(clean_texts[i])\n",
        "        cleaned_summaried.append(clean_summaried[i])"
      ],
      "id": "angry-championship",
      "execution_count": 23,
      "outputs": []
    },
    {
      "cell_type": "code",
      "metadata": {
        "id": "mineral-certificate"
      },
      "source": [
        "from sklearn.model_selection import train_test_split\n",
        "x_tr,x_val,y_tr,y_val=train_test_split(cleaned_texts,cleaned_summaried,test_size=0.1,random_state=0,shuffle=True) \n"
      ],
      "id": "mineral-certificate",
      "execution_count": 24,
      "outputs": []
    },
    {
      "cell_type": "code",
      "metadata": {
        "colab": {
          "base_uri": "https://localhost:8080/",
          "height": 52
        },
        "id": "compact-volunteer",
        "outputId": "f6633aea-7252-41b2-b20e-6efb20c77da0"
      },
      "source": [
        "x_tr[0]"
      ],
      "id": "compact-volunteer",
      "execution_count": 25,
      "outputs": [
        {
          "output_type": "execute_result",
          "data": {
            "application/vnd.google.colaboratory.intrinsic+json": {
              "type": "string"
            },
            "text/plain": [
              "'winning bronze medal asian games 2018 wrestler divya kakran revealed comes family sometimes could even afford milk today 3rd 2nd one day 1st give best tokyo olympics kakran added kakran medal beating opponent 90 seconds'"
            ]
          },
          "metadata": {
            "tags": []
          },
          "execution_count": 25
        }
      ]
    },
    {
      "cell_type": "code",
      "metadata": {
        "id": "local-hebrew"
      },
      "source": [
        "#prepare a tokenizer for reviews on training data\n",
        "x_tokenizer = Tokenizer()\n",
        "x_tokenizer.fit_on_texts(list(x_tr))\n",
        "\n",
        "#convert text sequences into integer sequences\n",
        "x_tr    =   x_tokenizer.texts_to_sequences(x_tr) \n",
        "x_val   =   x_tokenizer.texts_to_sequences(x_val)\n",
        "\n",
        "#padding zero upto maximum length\n",
        "x_tr    =   pad_sequences(x_tr,  maxlen=max_text_length, padding='post') \n",
        "x_val   =   pad_sequences(x_val, maxlen=max_text_length, padding='post')\n",
        "\n",
        "x_voc_size   =  len(x_tokenizer.word_index) +1"
      ],
      "id": "local-hebrew",
      "execution_count": 26,
      "outputs": []
    },
    {
      "cell_type": "code",
      "metadata": {
        "colab": {
          "base_uri": "https://localhost:8080/"
        },
        "id": "smoking-drinking",
        "outputId": "8f578a77-6e22-4878-c39e-4c4154a2051f"
      },
      "source": [
        "print(x_tr[0])"
      ],
      "id": "smoking-drinking",
      "execution_count": 27,
      "outputs": [
        {
          "output_type": "stream",
          "text": [
            "[  638  2312   942   943   488   115  3934  6697 17974   111   105    88\n",
            "  2347    68   124  6291  3137    84  7869  8431    15    41  8290   314\n",
            "   232  4767  1909 17974     5 17974   942  2611  5585  1279  1554     0\n",
            "     0     0     0     0     0     0     0     0     0     0     0     0\n",
            "     0     0     0     0     0     0     0     0     0     0     0     0\n",
            "     0     0     0     0     0     0     0     0     0     0     0     0\n",
            "     0     0     0     0     0     0     0     0     0     0     0     0\n",
            "     0     0     0     0     0     0     0     0     0     0     0     0\n",
            "     0     0     0     0     0     0     0     0     0     0     0     0\n",
            "     0     0     0     0     0     0     0     0     0     0     0     0\n",
            "     0     0     0     0     0     0     0     0     0     0     0     0\n",
            "     0     0     0     0     0     0     0     0     0     0     0     0\n",
            "     0     0     0     0     0     0     0     0     0     0     0     0\n",
            "     0     0     0     0     0     0     0     0     0     0     0     0\n",
            "     0     0     0     0     0     0     0     0     0     0     0     0\n",
            "     0     0     0     0     0     0     0     0     0     0     0     0\n",
            "     0     0     0     0     0     0     0     0     0     0     0     0\n",
            "     0     0     0     0     0     0     0     0     0     0     0     0\n",
            "     0     0     0     0     0     0     0     0     0     0     0     0\n",
            "     0     0     0     0     0     0     0     0     0     0     0     0\n",
            "     0     0     0     0     0     0     0     0     0     0     0     0\n",
            "     0     0     0     0     0     0     0     0     0     0     0     0\n",
            "     0     0     0     0     0     0     0     0     0     0     0     0\n",
            "     0     0     0     0     0     0     0     0     0     0     0     0\n",
            "     0     0     0     0     0     0     0     0     0     0     0     0\n",
            "     0     0     0     0     0     0     0     0     0     0     0     0\n",
            "     0     0     0     0     0     0     0     0     0     0     0     0\n",
            "     0     0     0     0     0     0     0     0     0     0     0     0\n",
            "     0     0     0     0     0     0     0     0     0     0     0     0\n",
            "     0     0     0     0     0     0     0     0     0     0     0     0\n",
            "     0     0     0     0     0     0     0     0     0     0     0     0\n",
            "     0     0     0     0     0     0     0     0     0     0     0     0\n",
            "     0     0     0     0     0     0     0     0     0     0     0     0\n",
            "     0     0     0     0     0     0     0     0     0     0     0     0\n",
            "     0     0     0     0     0     0     0     0     0     0     0     0\n",
            "     0     0     0     0     0     0     0     0     0     0     0     0\n",
            "     0     0     0     0     0     0     0     0     0     0     0     0\n",
            "     0     0     0     0     0     0     0     0     0     0     0     0\n",
            "     0     0     0     0     0     0     0     0     0     0     0     0\n",
            "     0     0     0     0     0     0     0     0     0     0     0     0\n",
            "     0     0     0     0     0     0     0     0     0     0     0     0\n",
            "     0     0     0     0     0     0     0     0     0     0     0     0\n",
            "     0     0     0     0     0     0     0     0     0     0     0     0\n",
            "     0     0     0     0     0     0     0     0     0     0     0     0\n",
            "     0     0     0     0     0     0     0     0     0     0     0     0\n",
            "     0     0     0     0     0     0     0     0     0     0     0     0\n",
            "     0     0     0     0     0     0     0     0     0     0     0     0\n",
            "     0     0     0     0     0     0     0     0     0     0     0     0\n",
            "     0     0     0     0     0     0     0     0     0     0     0     0\n",
            "     0     0     0     0     0     0     0     0     0     0     0     0]\n"
          ],
          "name": "stdout"
        }
      ]
    },
    {
      "cell_type": "code",
      "metadata": {
        "id": "dependent-trainer"
      },
      "source": [
        "#preparing a tokenizer for summary on training data \n",
        "y_tokenizer = Tokenizer()\n",
        "y_tokenizer.fit_on_texts(list(y_tr))\n",
        "\n",
        "#convert summary sequences into integer sequences\n",
        "y_tr    =   y_tokenizer.texts_to_sequences(y_tr) \n",
        "y_val   =   y_tokenizer.texts_to_sequences(y_val) \n",
        "\n",
        "#padding zero upto maximum length\n",
        "y_tr    =   pad_sequences(y_tr, maxlen=max_summary_length, padding='post')\n",
        "y_val   =   pad_sequences(y_val, maxlen=max_summary_length, padding='post')\n",
        "\n",
        "y_voc_size  =   len(y_tokenizer.word_index) +1"
      ],
      "id": "dependent-trainer",
      "execution_count": 28,
      "outputs": []
    },
    {
      "cell_type": "code",
      "metadata": {
        "colab": {
          "base_uri": "https://localhost:8080/"
        },
        "id": "hungry-cannon",
        "outputId": "eeabfb49-10fb-4e13-cf70-a95b7bef80ab"
      },
      "source": [
        "from keras import backend as K \n",
        "\n",
        "K.clear_session()\n",
        "\n",
        "latent_dim = 220\n",
        "#embedding_dim=200\n",
        "\n",
        "# Encoder\n",
        "encoder_inputs = Input(shape=(max_text_length,))\n",
        "\n",
        "#embedding layer\n",
        "enc_emb =  Embedding(x_voc_size, latent_dim,trainable=True)(encoder_inputs)\n",
        "\n",
        "#encoder lstm 1\n",
        "encoder_lstm1 = LSTM(latent_dim,return_sequences=True,return_state=True,dropout=0.4,recurrent_dropout=0.4)\n",
        "encoder_output1, state_h1, state_c1 = encoder_lstm1(enc_emb)\n",
        "\n",
        "#encoder lstm 2\n",
        "encoder_lstm2 = LSTM(latent_dim,return_sequences=True,return_state=True,dropout=0.4,recurrent_dropout=0.4)\n",
        "encoder_output2, state_h2, state_c2 = encoder_lstm2(encoder_output1)\n",
        "\n",
        "#encoder lstm 3\n",
        "encoder_lstm3=LSTM(latent_dim, return_state=True, return_sequences=True,dropout=0.4,recurrent_dropout=0.4)\n",
        "encoder_outputs, state_h, state_c= encoder_lstm3(encoder_output2)\n",
        "\n",
        "# Set up the decoder, using `encoder_states` as initial state.\n",
        "decoder_inputs = Input(shape=(None,))\n",
        "\n",
        "#embedding layer\n",
        "dec_emb_layer = Embedding(y_voc_size, latent_dim,trainable=True)\n",
        "dec_emb = dec_emb_layer(decoder_inputs)\n",
        "\n",
        "decoder_lstm = LSTM(latent_dim, return_sequences=True, return_state=True,dropout=0.4,recurrent_dropout=0.4)\n",
        "decoder_outputs,decoder_fwd_state, decoder_back_state = decoder_lstm(dec_emb,initial_state=[state_h, state_c])\n",
        "\n",
        "# Attention layer\n",
        "attn_layer = AttentionLayer(name='attention_layer')\n",
        "attn_out, attn_states = attn_layer([encoder_outputs, decoder_outputs])\n",
        "\n",
        "# Concat attention input and decoder LSTM output\n",
        "decoder_concat_input = Concatenate(axis=-1, name='concat_layer')([decoder_outputs, attn_out])\n",
        "\n",
        "#dense layer\n",
        "decoder_dense =  TimeDistributed(Dense(y_voc_size, activation='softmax'))\n",
        "decoder_outputs = decoder_dense(decoder_concat_input)\n",
        "\n",
        "# Define the model \n",
        "model = Model([encoder_inputs, decoder_inputs], decoder_outputs)\n",
        "\n",
        "\n",
        "\n",
        "#dense layer\n",
        "#decoder_dense =  TimeDistributed(Dense(y_voc_size, activation='softmax'))\n",
        "#decoder_outputs = decoder_dense(decoder_outputs)\n",
        "\n",
        "# Define the model \n",
        "#model = Model([encoder_inputs, decoder_inputs], decoder_outputs)\n",
        "\n",
        "model.summary()"
      ],
      "id": "hungry-cannon",
      "execution_count": 29,
      "outputs": [
        {
          "output_type": "stream",
          "text": [
            "WARNING:tensorflow:Layer lstm will not use cuDNN kernel since it doesn't meet the cuDNN kernel criteria. It will use generic GPU kernel as fallback when running on GPU\n",
            "WARNING:tensorflow:Layer lstm_1 will not use cuDNN kernel since it doesn't meet the cuDNN kernel criteria. It will use generic GPU kernel as fallback when running on GPU\n",
            "WARNING:tensorflow:Layer lstm_2 will not use cuDNN kernel since it doesn't meet the cuDNN kernel criteria. It will use generic GPU kernel as fallback when running on GPU\n",
            "WARNING:tensorflow:Layer lstm_3 will not use cuDNN kernel since it doesn't meet the cuDNN kernel criteria. It will use generic GPU kernel as fallback when running on GPU\n",
            "Model: \"model\"\n",
            "__________________________________________________________________________________________________\n",
            "Layer (type)                    Output Shape         Param #     Connected to                     \n",
            "==================================================================================================\n",
            "input_1 (InputLayer)            [(None, 600)]        0                                            \n",
            "__________________________________________________________________________________________________\n",
            "embedding (Embedding)           (None, 600, 220)     16378340    input_1[0][0]                    \n",
            "__________________________________________________________________________________________________\n",
            "lstm (LSTM)                     [(None, 600, 220), ( 388080      embedding[0][0]                  \n",
            "__________________________________________________________________________________________________\n",
            "input_2 (InputLayer)            [(None, None)]       0                                            \n",
            "__________________________________________________________________________________________________\n",
            "lstm_1 (LSTM)                   [(None, 600, 220), ( 388080      lstm[0][0]                       \n",
            "__________________________________________________________________________________________________\n",
            "embedding_1 (Embedding)         (None, None, 220)    7047260     input_2[0][0]                    \n",
            "__________________________________________________________________________________________________\n",
            "lstm_2 (LSTM)                   [(None, 600, 220), ( 388080      lstm_1[0][0]                     \n",
            "__________________________________________________________________________________________________\n",
            "lstm_3 (LSTM)                   [(None, None, 220),  388080      embedding_1[0][0]                \n",
            "                                                                 lstm_2[0][1]                     \n",
            "                                                                 lstm_2[0][2]                     \n",
            "__________________________________________________________________________________________________\n",
            "attention_layer (AttentionLayer ((None, None, 220),  97020       lstm_2[0][0]                     \n",
            "                                                                 lstm_3[0][0]                     \n",
            "__________________________________________________________________________________________________\n",
            "concat_layer (Concatenate)      (None, None, 440)    0           lstm_3[0][0]                     \n",
            "                                                                 attention_layer[0][0]            \n",
            "__________________________________________________________________________________________________\n",
            "time_distributed (TimeDistribut (None, None, 32033)  14126553    concat_layer[0][0]               \n",
            "==================================================================================================\n",
            "Total params: 39,201,493\n",
            "Trainable params: 39,201,493\n",
            "Non-trainable params: 0\n",
            "__________________________________________________________________________________________________\n"
          ],
          "name": "stdout"
        }
      ]
    },
    {
      "cell_type": "code",
      "metadata": {
        "id": "green-breach"
      },
      "source": [
        "model.compile(optimizer='rmsprop', loss='sparse_categorical_crossentropy')"
      ],
      "id": "green-breach",
      "execution_count": 30,
      "outputs": []
    },
    {
      "cell_type": "code",
      "metadata": {
        "id": "reflected-sessions"
      },
      "source": [
        "es = EarlyStopping(monitor='val_loss', mode='min', verbose=1,patience=2)"
      ],
      "id": "reflected-sessions",
      "execution_count": 31,
      "outputs": []
    },
    {
      "cell_type": "code",
      "metadata": {
        "colab": {
          "base_uri": "https://localhost:8080/"
        },
        "id": "cross-miller",
        "outputId": "b03c0fd6-9d01-417f-806b-072476ece793"
      },
      "source": [
        "history=model.fit([x_tr,y_tr[:,:-1]], y_tr.reshape(y_tr.shape[0],y_tr.shape[1], 1)[:,1:] ,epochs=6,callbacks=[es],batch_size=100, validation_data=([x_val,y_val[:,:-1]], y_val.reshape(y_val.shape[0],y_val.shape[1], 1)[:,1:]))"
      ],
      "id": "cross-miller",
      "execution_count": 32,
      "outputs": [
        {
          "output_type": "stream",
          "text": [
            "Epoch 1/6\n",
            "510/510 [==============================] - 3927s 8s/step - loss: 2.1574 - val_loss: 1.5165\n",
            "Epoch 2/6\n",
            "510/510 [==============================] - 3961s 8s/step - loss: 1.5173 - val_loss: 1.4128\n",
            "Epoch 3/6\n",
            "510/510 [==============================] - 3928s 8s/step - loss: 1.4057 - val_loss: 1.3403\n",
            "Epoch 4/6\n",
            "510/510 [==============================] - 3874s 8s/step - loss: 1.3433 - val_loss: 1.3013\n",
            "Epoch 5/6\n",
            "510/510 [==============================] - 3928s 8s/step - loss: 1.2937 - val_loss: 1.2738\n",
            "Epoch 6/6\n",
            "510/510 [==============================] - 3863s 8s/step - loss: 1.2571 - val_loss: 1.2453\n"
          ],
          "name": "stdout"
        }
      ]
    },
    {
      "cell_type": "code",
      "metadata": {
        "colab": {
          "base_uri": "https://localhost:8080/",
          "height": 265
        },
        "id": "judicial-malawi",
        "outputId": "15149c7d-ad67-46db-b5e4-dc3421b47a69"
      },
      "source": [
        "from matplotlib import pyplot\n",
        "pyplot.plot(history.history['loss'], label='train')\n",
        "pyplot.plot(history.history['val_loss'], label='test')\n",
        "pyplot.legend()\n",
        "pyplot.show()"
      ],
      "id": "judicial-malawi",
      "execution_count": 33,
      "outputs": [
        {
          "output_type": "display_data",
          "data": {
            "image/png": "[encoded data removed]",
            "text/plain": [
              "<Figure size 432x288 with 1 Axes>"
            ]
          },
          "metadata": {
            "tags": [],
            "needs_background": "light"
          }
        }
      ]
    },
    {
      "cell_type": "code",
      "metadata": {
        "id": "yIJ0Z-GE2q3p"
      },
      "source": [
        ""
      ],
      "id": "yIJ0Z-GE2q3p",
      "execution_count": null,
      "outputs": []
    },
    {
      "cell_type": "code",
      "metadata": {
        "colab": {
          "base_uri": "https://localhost:8080/"
        },
        "id": "adjusted-battlefield",
        "outputId": "4355ead3-3d75-4704-e106-04a8f25714da"
      },
      "source": [
        "model.save('Saved_Model/mymodel')"
      ],
      "id": "adjusted-battlefield",
      "execution_count": 34,
      "outputs": [
        {
          "output_type": "stream",
          "text": [
            "INFO:tensorflow:Assets written to: Saved_Model/mymodel/assets\n"
          ],
          "name": "stdout"
        }
      ]
    },
    {
      "cell_type": "code",
      "metadata": {
        "colab": {
          "base_uri": "https://localhost:8080/"
        },
        "id": "NU6kxPze4Lpf",
        "outputId": "444f34a7-abc6-4c76-8d1d-176ceb5588b0"
      },
      "source": [
        "from tensorflow import keras\n",
        "#model = tf.saved_model.load(\"./my_model.h5\")\n",
        "model = keras.models.load_model('Saved_Model/mymodel')"
      ],
      "id": "NU6kxPze4Lpf",
      "execution_count": 47,
      "outputs": [
        {
          "output_type": "stream",
          "text": [
            "WARNING:tensorflow:Layer lstm will not use cuDNN kernel since it doesn't meet the cuDNN kernel criteria. It will use generic GPU kernel as fallback when running on GPU\n",
            "WARNING:tensorflow:Layer lstm_1 will not use cuDNN kernel since it doesn't meet the cuDNN kernel criteria. It will use generic GPU kernel as fallback when running on GPU\n",
            "WARNING:tensorflow:Layer lstm_2 will not use cuDNN kernel since it doesn't meet the cuDNN kernel criteria. It will use generic GPU kernel as fallback when running on GPU\n",
            "WARNING:tensorflow:Layer lstm_3 will not use cuDNN kernel since it doesn't meet the cuDNN kernel criteria. It will use generic GPU kernel as fallback when running on GPU\n"
          ],
          "name": "stdout"
        }
      ]
    },
    {
      "cell_type": "code",
      "metadata": {
        "id": "qBxXWAoR2r87"
      },
      "source": [
        "reverse_target_word_index=y_tokenizer.index_word \n",
        "reverse_source_word_index=x_tokenizer.index_word \n",
        "target_word_index=y_tokenizer.word_index"
      ],
      "id": "qBxXWAoR2r87",
      "execution_count": 48,
      "outputs": []
    },
    {
      "cell_type": "code",
      "metadata": {
        "id": "v1nwLi0v279t"
      },
      "source": [
        "# encoder inference\n",
        "encoder_model = Model(inputs=encoder_inputs,outputs=[encoder_outputs, state_h, state_c])\n",
        "\n",
        "# decoder inference\n",
        "# Below tensors will hold the states of the previous time step\n",
        "decoder_state_input_h = Input(shape=(latent_dim,))\n",
        "decoder_state_input_c = Input(shape=(latent_dim,))\n",
        "decoder_hidden_state_input = Input(shape=(max_text_length,latent_dim))\n",
        "\n",
        "# Get the embeddings of the decoder sequence\n",
        "dec_emb2= dec_emb_layer(decoder_inputs)\n",
        "\n",
        "# To predict the next word in the sequence, set the initial states to the states from the previous time step\n",
        "decoder_outputs2, state_h2, state_c2 = decoder_lstm(dec_emb2, initial_state=[decoder_state_input_h, decoder_state_input_c])\n",
        "\n",
        "#attention inference\n",
        "attn_out_inf, attn_states_inf = attn_layer([decoder_hidden_state_input, decoder_outputs2])\n",
        "decoder_inf_concat = Concatenate(axis=-1, name='concat')([decoder_outputs2, attn_out_inf])\n",
        "\n",
        "# A dense softmax layer to generate prob dist. over the target vocabulary\n",
        "decoder_outputs2 = decoder_dense(decoder_inf_concat)\n",
        "\n",
        "# Final decoder model\n",
        "decoder_model = Model(\n",
        "[decoder_inputs] + [decoder_hidden_state_input,decoder_state_input_h, decoder_state_input_c],\n",
        "[decoder_outputs2] + [state_h2, state_c2])"
      ],
      "id": "v1nwLi0v279t",
      "execution_count": 49,
      "outputs": []
    },
    {
      "cell_type": "code",
      "metadata": {
        "id": "_c88En2T3GyU"
      },
      "source": [
        "def decode_sequence(input_seq):\n",
        "    # Encode the input as state vectors.\n",
        "    e_out, e_h, e_c = encoder_model.predict(input_seq)\n",
        "\n",
        "    # Generate empty target sequence of length 1.\n",
        "    target_seq = np.zeros((1,1))\n",
        "\n",
        "    # Chose the 'start' word as the first word of the target sequence\n",
        "    target_seq[0, 0] = target_word_index['the']\n",
        "\n",
        "    stop_condition = False\n",
        "    decoded_sentence = ''\n",
        "    while not stop_condition:\n",
        "        output_tokens, h, c = decoder_model.predict([target_seq] + [e_out, e_h, e_c])\n",
        "        # Sample a token\n",
        "        sampled_token_index = np.argmax(output_tokens[0, -1, :])\n",
        "        indexNum = sampled_token_index\n",
        "        if indexNum == 0 :\n",
        "          break\n",
        "        sampled_token = reverse_target_word_index[indexNum]\n",
        "\n",
        "        if(sampled_token!='end'):\n",
        "            decoded_sentence += ' '+sampled_token\n",
        "\n",
        "            # Exit condition: either hit max length or find stop word.\n",
        "            if (sampled_token == 'end' or len(decoded_sentence.split()) >= (max_summary_length-1)):\n",
        "                stop_condition = True\n",
        "\n",
        "        # Update the target sequence (of length 1).\n",
        "        target_seq = np.zeros((1,1))\n",
        "        target_seq[0, 0] = sampled_token_index\n",
        "\n",
        "        # Update internal states\n",
        "        e_h, e_c = h, c\n",
        "\n",
        "    return decoded_sentence"
      ],
      "id": "_c88En2T3GyU",
      "execution_count": 86,
      "outputs": []
    },
    {
      "cell_type": "code",
      "metadata": {
        "id": "-_RXNMOJ3OsB"
      },
      "source": [
        "def seq2summary(input_seq):\n",
        "    newString=''\n",
        "    for i in input_seq:\n",
        "      if((i!=0 and i!=target_word_index['start']) and i!=target_word_index['end']):\n",
        "        newString=newString+reverse_target_word_index[i]+' '\n",
        "    return newString\n",
        "\n",
        "def seq2text(input_seq):\n",
        "    newString=''\n",
        "    for i in input_seq:\n",
        "      if(i!=0):\n",
        "        newString=newString+reverse_source_word_index[i]+' '\n",
        "    return newString"
      ],
      "id": "-_RXNMOJ3OsB",
      "execution_count": 87,
      "outputs": []
    },
    {
      "cell_type": "code",
      "metadata": {
        "colab": {
          "base_uri": "https://localhost:8080/"
        },
        "id": "BLufB0bA3Tmz",
        "outputId": "117275e5-fcf1-4d28-c9ba-368b5f7958a4"
      },
      "source": [
        "for i in range(100,120):\n",
        "  print(\"Review:\",seq2text(x_val[i]))\n",
        "  print(\"Original summary:\",seq2summary(y_val[i]))\n",
        "  print(\"Predicted summary:\",decode_sequence(x_val[i].reshape(1,max_text_length)))\n",
        "  print(\"\\n\")"
      ],
      "id": "BLufB0bA3Tmz",
      "execution_count": 107,
      "outputs": [
        {
          "output_type": "stream",
          "text": [
            "Review: gaurav solanki become second indian male boxer singh 2010 win gold flyweight category 52kg commonwealth games solanki achieved feat defeating northern ireland brendan final gold coast saturday gold india 2nd boxing 20th overall cwg 2018 \n",
            "Original summary: boxer gaurav solanki second indian to win cwg gold \n",
            "Predicted summary:  indian team has been named by india s cwg gold gold\n",
            "\n",
            "\n",
            "Review: bihar chief minister nitish kumar posted message online commending parties assembly elections uttar pradesh uttarakhand punjab goa manipur kumar went analyze bjp phenomenal wins uttarakhand saying backward classes endorsed bharatiya janata party election results furthermore non bjp parties try consolidate classes nitish said bihar chief minister largely support prime minister narendra modi demonetisation went link note ban bjp wins opposition raised hue cry controversial move kumar opined adding poor felt content exercise hurt rich nitish also indicated congress samajwadi party bahujan samaj party failed partly unable form bihar style grand alliance two sentences nitish also congratulated congress strong win punjab emerging leading party manipur goa happening today goa meanwhile seeing pitched battle bjp congress neither parties able win majority win support state parties congress bjp asserted able form government coastal state respective mandates punjab congress set form government victorious captain amarinder singh planning meet governor later today stake claim chief minister chair uttarakhand bjp parliamentary board meet today decide chief ministers states manipur party emerged clear majority bjp negotiating state parties get enough support form government \n",
            "Original summary: bihar chief minister nitish kumar posted a message online the parties that won the assembly elections in the five states analysing the results the jd u leader stated that the opposition should not have raised such a hue and cry over demonetisation as the poor felt content that the exercise had hurt the rich \n",
            "Predicted summary:  bjp leader has said that he is not a bjp s son to be a party in the uttar pradesh cm arvind kejriwal s son who said that the party is not a party to be a party to be a party to be a party in the party s office in the party s office said that the party is not a party to be a\n",
            "\n",
            "\n",
            "Review: shape water best picture director guillermo del toro named best director 90th academy awards gary oldman named best actor frances mcdormand best actress award icarus oscar best documentary silent child named best short film live action coco named best animated feature film \n",
            "Original summary: who were the winners at oscars 2018 \n",
            "Predicted summary:  world s best best best award in best award in a week\n",
            "\n",
            "\n",
            "Review: janhvi kapoor talking father boney kapoor reaction watching debut film dhadak said night came room held tight started crying talking sister khushi kapoor reaction added khushi crying looked said worrying started crying nn \n",
            "Original summary: dad held me tight and cried after watching dhadak janhvi \n",
            "Predicted summary:  i will not be a mom to be a mom janhvi on sonam s mom\n",
            "\n",
            "\n",
            "Review: admitting little wary aam aadmi party punjab assembly election congress chief ministerial candidate captain amarinder singh said cannot take arvind kejriwal granted kejriwal sneaky little fellow little wary cannot take granted considering 2014 polls singh told ani said resentment people thought new party aap kejriwal ambitious ambition punjab needs said claiming performance delhi cm coming show upcoming election knows nothing punjab considers punjab stepping stone wants jump union territory major state singh said kejriwal also read kejriwal india today capt amarinder singh lose patiala seat despite congress cm giving step motherly treatment expressing confidence forming next government punjab singh accused shiromani akali dal providing step motherly treatment state total mismanagement corruption trade loss farmers hanging total collapse badal old understand busy darshan giving step mother treatment state captain said \n",
            "Original summary: congress chief ministerial candidate for punjab captain amarinder singh has admitted his party cannot take aap convenor arvind kejriwal for granted kejriwal is a little fellow but i am little wary of him as we cannot take him for granted considering 2014 polls he stated there was resentment among people so they thought of a new party aap he added \n",
            "Predicted summary:  delhi cm arvind kejriwal on monday said that the aap s party has been given to the party s party to the party s party in delhi assembly elections the aap has said that the party is not a aap to be a aap to be a party to be a party in the party s residence in the delhi assembly elections\n",
            "\n",
            "\n",
            "Review: kamal kishore mishra prime witness murder bjp leader ojha allegedly shot dead bihar bhojpur district friday unidentified miscreants police said mishra completed testimony earlier year security cordon removed request meanwhile man raised alarm following shooting sustained bullet injuries \n",
            "Original summary: prime witness in bjp leader s murder case shot dead in bihar \n",
            "Predicted summary:  bjp leader shot dead in bihar after being arrested\n",
            "\n",
            "\n",
            "Review: kim jong un president north korea post reassigned death grandfather kim il sung 1994 kim il sung founder north korea proclaimed eternal president revision constitution 1998 kim jong un became north korea supreme leader succeeding father kim jong il 2011 \n",
            "Original summary: kim jong un is not the president of north korea \n",
            "Predicted summary:  kim jong un s korean korean summit is a very very very good\n",
            "\n",
            "\n",
            "Review: punjab cabinet tuesday approved amendments code criminal procedure indian penal code make sacrilege religious text punishable life imprisonment 2016 state cabinet passed bill mandating life imprisonment sacrilege guru granth sahib new bill includes bhagavad gita quran bible well \n",
            "Original summary: punjab approves life term for sacrilege of religious texts \n",
            "Predicted summary:  centre s body to be allowed to be allowed to be a centre to be a day of the supreme court on the centre s office on the centre s office said the centre has been taken to the state s government to be a petition to be a petition on the government s order to be a petition to be taken to the government\n",
            "\n",
            "\n",
            "Review: women child development minister maneka gandhi friday said ministry amend protection children sexual offences pocso act award death penalty raping minors presently maximum punishment sexually assaulting minor act life imprisonment comes eight year old girl gangraped murdered jammu kashmir kathua \n",
            "Original summary: will amend law to award death for raping minors maneka \n",
            "Predicted summary:  woman who was raped by the home of rape case\n",
            "\n",
            "\n",
            "Review: trailer bradley millie bobby brown vera farmiga starrer godzilla king monsters released directed michael film reportedly budget 200 million advertised another 100 150 million godzilla king monsters release may 31 2019 \n",
            "Original summary: trailer of godzilla king of the released \n",
            "Predicted summary:  first look of the first time in the world s film s film released\n",
            "\n",
            "\n",
            "Review: interest increasing tourist footfalls braj region yogi government soon taking new steps direction enable tourists stay least 2 3 days region senior administrative officer told india today krishna land theme park lines disney land proposed mathura detailed proposal soon submitted government similarly proposed agra fort taj mahal tourists coming agra given facility hop hop bus service tourists able visit monuments agra one bus ticket apart agra also developed tourist spot decisions taken meeting held lucknow recently decided braj region shall given shape tourist hub another senior official told india today goverdhan parikrama vrindavan developed per interest shown chief minister yogi adityanath sanjhi art form braj preserved developed help world bank chief minister showing interest krishna land project asked proposal soon possible ghat project also prepared yamuna water brought back ancient ghats river channels ghats form part parikrama braj \n",
            "Original summary: a krishna land theme park on the lines of disneyland and a between agra fort and taj mahal were among the projects proposed during a recent lucknow meeting up cm yogi adityanath has reportedly shown interest in krishna land asking for a proposal soon other proposals included a hop on hop off bus service in agra \n",
            "Predicted summary:  government has said that the government is not to be allowed to the government s government to be allowed to the government to be allowed to the government to be taken to the government s government to the government s government to the government s government to the government s government to provide the government to be taken to the government s government to be taken to\n",
            "\n",
            "\n",
            "Review: testimony us congress wednesday facebook ceo mark zuckerberg said company everything ensure safety elections india pakistan comes revealed 87 million facebook users data exploited influence us elections data five lakh facebook users india also leaked \n",
            "Original summary: will do everything to ensure india s election safety fb ceo \n",
            "Predicted summary:  facebook is not a twitter to be a whatsapp ceo\n",
            "\n",
            "\n",
            "Review: spanish national football team handed croatia finalists 2018 fifa world cup worst ever defeat form 0 6 loss uefa nations league tuesday spain saw goals come two long range strikes real madrid forward marco asensio also registered three assists match \n",
            "Original summary: spain hand world cup 2018 runners up their worst ever defeat \n",
            "Predicted summary:  world s team to play a world cup final in wc\n",
            "\n",
            "\n",
            "Review: john abraham satyameva jayate released independence day deeply irresponsible tone deaf waste time wrote hindustan times firstpost called fairly illogical commercial thriller entertaining parts indian express wrote much gore even hardened viewers may rated 0 5 5 ht 2 5 5 firstpost 1 5 5 indian express \n",
            "Original summary: john abraham starrer satyameva jayate hits the theatres \n",
            "Predicted summary:  world s richest film is the first ever ever in the world s best film s first film to be a first time to be a first time to be a first time to be seen at the world s first time in the world s first film s first film to the world s first film s first film to the world s first film s\n",
            "\n",
            "\n",
            "Review: tv serial kumkum lead actress juhi parmar talking co star late actress rita bhaduri said used call rita maa never able forget rita never able come terms added rita passed away tuesday age 62 \n",
            "Original summary: used to call her rita maa kumkum s lead on late actress \n",
            "Predicted summary:  film is a lot of a film i am a good director\n",
            "\n",
            "\n",
            "Review: lianna former assistant mariah carey claimed physically sexually racially abused carey former manager stella working singer alleged held urinated claims stella slapped buttocks breasts lawsuit claimed singer stella behaviour \n",
            "Original summary: was on abused while working for mariah carey ex assistant \n",
            "Predicted summary:  woman s son was not a sex in the year old rape case\n",
            "\n",
            "\n",
            "Review: west bengal cm mamata banerjee sunday sent rakhi patidar leader hardik patel sitting indefinite fast residence demanding reservation patidar community waiver farm debts gujarat rakhi delivered tmc mp dinesh trivedi also tied patidar leader extended support fast \n",
            "Original summary: wb cm mamata sends rakhi to patidar leader hardik patel \n",
            "Predicted summary:  k taka cm yogi s statue in bihar cm yogi s death\n",
            "\n",
            "\n",
            "Review: cargo helicopter indian air force carrying construction material crashed tuesday collided iron near kedarnath temple uttarakhand helicopter severely damaged crash six occupants survived indian air force ordered inquiry incident \n",
            "Original summary: indian air force helicopter crashes in uttarakhand \n",
            "Predicted summary:  indian air force was the first time in the indian air force on monday the flight was reportedly to be killed in the plane in the plane the flight was reportedly reportedly the incident the incident was reportedly to be taken to the incident the incident said that the incident was taken to the plane s plane said the incident was taken to the plane\n",
            "\n",
            "\n",
            "Review: amid ongoing partial government shutdown us commerce secretary wilbur ross told unpaid federal workers get loan meet expenses disappointing workers coming work said many 8 lakh federal workers continue unpaid amid partial government shutdown longest us history \n",
            "Original summary: get a loan us commerce chief to unpaid workers amid govt shutdown \n",
            "Predicted summary:  government to be allowed to be used to stop us govt\n",
            "\n",
            "\n",
            "Review: actor shah rukh khan play lead fourth instalment dhoom franchise per reports reportedly start working dhoom 4 finishing shoot upcoming film zero earlier reports said salman khan also approached role turned offer \n",
            "Original summary: shah rukh khan to play lead in dhoom 4 reports \n",
            "Predicted summary:  srk s son is a salman of the film s film srk\n",
            "\n",
            "\n"
          ],
          "name": "stdout"
        }
      ]
    },
    {
      "cell_type": "code",
      "metadata": {
        "colab": {
          "base_uri": "https://localhost:8080/"
        },
        "id": "HNwTSolDAX-D",
        "outputId": "6af391f6-dc4e-415d-bc1f-7fccc4f37301"
      },
      "source": [
        "\n",
        "from nltk.translate.bleu_score import corpus_bleu\n",
        "reference = []\n",
        "reference1 = []\n",
        "reference2 = []\n",
        "reference3 = []\n",
        "reference4 = []\n",
        "reference5 = []\n",
        "reference6 = []\n",
        "reference7 = []\n",
        "reference8 = []\n",
        "reference9 = []\n",
        "reference10 = []\n",
        "\n",
        "candidate = []\n",
        "candidate1 = []\n",
        "candidate2 = []\n",
        "candidate3 = []\n",
        "candidate4 = []\n",
        "candidate5 = []\n",
        "candidate6 = []\n",
        "candidate7 = []\n",
        "candidate8 = []\n",
        "candidate9 = []\n",
        "candidate10 = []\n",
        "\n",
        "reference1 = seq2summary(y_val[100])\n",
        "reference2 = seq2summary(y_val[200])\n",
        "reference3 = seq2summary(y_val[300])\n",
        "reference4 = seq2summary(y_val[400])\n",
        "reference5 = seq2summary(y_val[500])\n",
        "reference6 = seq2summary(y_val[600])\n",
        "reference7 = seq2summary(y_val[700])\n",
        "reference8 = seq2summary(y_val[800])\n",
        "reference9 = seq2summary(y_val[900])\n",
        "reference10 = seq2summary(y_val[1000])\n",
        "\n",
        "reference1.split()\n",
        "reference2.split()\n",
        "reference3.split()\n",
        "reference4.split()\n",
        "reference5.split()\n",
        "reference6.split()\n",
        "reference7.split()\n",
        "reference8.split()\n",
        "reference9.split()\n",
        "reference10.split()\n",
        "\n",
        "\n",
        "reference = [reference1,reference2,reference3,reference4,reference5,reference6,reference7,reference8,reference9,reference10]\n",
        "\n",
        "\n",
        "\n",
        "candidate1 = decode_sequence(x_val[100].reshape(1,max_text_length))\n",
        "candidate2 = decode_sequence(x_val[200].reshape(1,max_text_length))\n",
        "candidate3 = decode_sequence(x_val[300].reshape(1,max_text_length))\n",
        "candidate4 = decode_sequence(x_val[400].reshape(1,max_text_length))\n",
        "candidate5 = decode_sequence(x_val[500].reshape(1,max_text_length))\n",
        "candidate6 = decode_sequence(x_val[600].reshape(1,max_text_length))\n",
        "candidate7 = decode_sequence(x_val[700].reshape(1,max_text_length))\n",
        "candidate8 = decode_sequence(x_val[800].reshape(1,max_text_length))\n",
        "candidate9 = decode_sequence(x_val[900].reshape(1,max_text_length))\n",
        "candidate10 = decode_sequence(x_val[1000].reshape(1,max_text_length))\n",
        "\n",
        "candidate1.split()\n",
        "candidate2.split()\n",
        "candidate3.split()\n",
        "candidate4.split()\n",
        "candidate5.split()\n",
        "candidate6.split()\n",
        "candidate7.split()\n",
        "candidate8.split()\n",
        "candidate9.split()\n",
        "candidate10.split()\n",
        "\n",
        "\n",
        "candidate = [candidate1,candidate2,candidate3,candidate4,candidate5,candidate6,candidate7,candidate8,candidate9,candidate10]\n",
        "\n",
        "score = corpus_bleu(reference,candidate)\n",
        "print(score)"
      ],
      "id": "HNwTSolDAX-D",
      "execution_count": 112,
      "outputs": [
        {
          "output_type": "stream",
          "text": [
            "0.6171464170051384\n"
          ],
          "name": "stdout"
        }
      ]
    }
  ]
}